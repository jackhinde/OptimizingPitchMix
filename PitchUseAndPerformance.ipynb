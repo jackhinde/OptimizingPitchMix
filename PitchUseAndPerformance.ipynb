{
 "cells": [
  {
   "cell_type": "markdown",
   "id": "df77c0f6",
   "metadata": {},
   "source": [
    "# Section 1 - Introduction"
   ]
  },
  {
   "cell_type": "markdown",
   "id": "aba5dc1b",
   "metadata": {},
   "source": [
    "In this project, I will attempt to fit a function to model a pitcher's change in wOBA against for each of their pitch types as a function of the use of the pitch type. The long-term goal of this project is to optimize every pitcher's pitch mix. For this project, I define a pitcher's pitch mix as the percentage thrown of each of their pitch types.\n",
    "\n",
    "For example, Cory Abbott's pitch mix in 2022 was 50.9% 4-Seam Fastball, 22.2% Knuckle Curve, 26.9% Slider.\n",
    "\n",
    "For this project, I will also define an optimal pitch mix as the pitch mix that minimizes batter success against the pitcher.\n",
    "\n",
    "Modeling pitcher performance as a single statistic is difficult. A successful result for a pitcher can come in many forms, and what is a successful result in one situation may not be successful in another situation. For example, two ground balls both in the same inning but one with the bases empty and the other with a runner on third base and less than two outs (assuming the defense is playing back) are very different outcomes for the pitcher. In the first case, the pitcher is likely to have generated an out, and in the other the pitcher likely generated an out, but allowed the run to score. Though the result of the plate appearance for the pitcher was the same, one situation represents a much better result for the pitcher."
   ]
  },
  {
   "cell_type": "markdown",
   "id": "5b8bf81d",
   "metadata": {},
   "source": [
    "The statistic that I've chosen to represent pitcher success is wOBA against (denoted wOBA from here on), you can read more about wOBA on Fangraphs. \n",
    "\n",
    "The first reason that I chose wOBA is that it better represents the value of events to a team's run scoring (or run prevention from the pitching team's perspective) than traditional batting stats.\n",
    "\n",
    "The second reason that I chose wOBA is that it is limited to the results of a plate appearance. For a pitcher, getting looking or swinging strikes is generally good and throwing balls is generally bad, but their relationship to team run prevention is more complex than the relationship of the results of a plate appearance.\n",
    "\n",
    "wOBA doesn't consider the situation of a plate appearance, so it isn't necessarily an improvement from the ground balls in the above example, but generally the lower wOBA a pitcher has, the better the pitcher will be at preventing runs."
   ]
  },
  {
   "cell_type": "markdown",
   "id": "636410fc",
   "metadata": {},
   "source": [
    "When considering a pitcher's wOBA, we can turn it into a weighted average with their wOBA on each of their pitch types weighted by the percentage that they threw the pitch. "
   ]
  },
  {
   "cell_type": "markdown",
   "id": "c8f5a238",
   "metadata": {},
   "source": [
    "Say a pitcher throws $n$ pitch types (denoted pitches from here on) (we will see later that the maximum number of pitches that a pitcher threw is 8).\n",
    "\n",
    "Then we can create a weighted average of their pitch types like this"
   ]
  },
  {
   "cell_type": "markdown",
   "id": "f6473efc",
   "metadata": {},
   "source": [
    "$wOBA = wOBA_{1} * x_{1} + ... + wOBA_{n} * x_{n}$"
   ]
  },
  {
   "cell_type": "markdown",
   "id": "39f47d68",
   "metadata": {},
   "source": [
    "where $x_{i}$ is the percentage thrown of pitch $i$ across the full season"
   ]
  },
  {
   "cell_type": "markdown",
   "id": "4a939fde",
   "metadata": {},
   "source": [
    "For example, the weighted average of Cory Abbott's wOBA is $0.363 = 0.329 * 0.509 + 0.374 * 0.222 + 0.422 * 0.269$"
   ]
  },
  {
   "cell_type": "markdown",
   "id": "cc087efd",
   "metadata": {},
   "source": [
    "Part of what makes pitchers successful is ensuring that the batter doesn't know what pitch is coming next. So it is likely that if a pitcher throws a pitch type more or less often in a given time period, batters may have different results against that pitch in the time period.\n",
    "\n",
    "My motivation for this project in the long-term comes from understanding that pitchers should throw their best pitches often, but in changing how often they throw each pitch they may see different results against it.\n",
    "\n",
    "The motivation for this project is to model the relationship between a pitch's wOBA and its use.\n",
    "\n",
    "For a pitch $i$, I want to determine"
   ]
  },
  {
   "cell_type": "markdown",
   "id": "35bd399b",
   "metadata": {},
   "source": [
    "$\\Delta wOBA_{i}(x_{i}) \\approx \\hat{wOBA}_{i} - wOBA_{i}$"
   ]
  },
  {
   "cell_type": "markdown",
   "id": "beb71c96",
   "metadata": {},
   "source": [
    "where \\hat{wOBA}_{i} is the wOBA of pitch $i$ in a sample of different use of pitch $i$."
   ]
  },
  {
   "cell_type": "markdown",
   "id": "2eb0158f",
   "metadata": {},
   "source": [
    "That is, I want to approximate the change in wOBA for a different percent of use of pitch $i$.\n",
    "\n",
    "The way that I will measure change in a pitch's use is against the average use of a pitch in the season. I will denote $\\mu_{i}$ as the percentage thrown of pitch $i$ across the full season.\n",
    "\n",
    "This makes the relationship that I seek to model as a function"
   ]
  },
  {
   "cell_type": "markdown",
   "id": "cc278143",
   "metadata": {},
   "source": [
    "$\\Delta wOBA_{i}(x_{i}) = f(x_{i} - \\mu_{i}) \\approx \\hat{wOBA}_{i} - wOBA_{i}$"
   ]
  },
  {
   "cell_type": "markdown",
   "id": "89c1463b",
   "metadata": {},
   "source": [
    "# Section 2 - Loading Dataset"
   ]
  },
  {
   "cell_type": "markdown",
   "id": "89080512",
   "metadata": {},
   "source": [
    "## Standard Library Imports"
   ]
  },
  {
   "cell_type": "code",
   "execution_count": null,
   "id": "2a5ad78f",
   "metadata": {},
   "outputs": [],
   "source": [
    "I will import several Python libraries for data manipulation and data plotting."
   ]
  },
  {
   "cell_type": "code",
   "execution_count": 1,
   "id": "19dfa089",
   "metadata": {},
   "outputs": [],
   "source": [
    "import numpy as np\n",
    "import pandas as pd\n",
    "import matplotlib.pyplot as plt\n",
    "import seaborn as sns"
   ]
  },
  {
   "cell_type": "code",
   "execution_count": null,
   "id": "7199616c",
   "metadata": {},
   "outputs": [],
   "source": [
    "I will also import two packages from the scikit-learn library for fitting models."
   ]
  },
  {
   "cell_type": "code",
   "execution_count": 6,
   "id": "9de5b6d4",
   "metadata": {},
   "outputs": [],
   "source": [
    "from sklearn.linear_model import LinearRegression\n",
    "from sklearn.preprocessing import PolynomialFeatures"
   ]
  },
  {
   "cell_type": "markdown",
   "id": "726b3da6",
   "metadata": {},
   "source": [
    "## Third-Party Library Imports"
   ]
  },
  {
   "cell_type": "markdown",
   "id": "ed233562",
   "metadata": {},
   "source": [
    "The last package that I will import is the statcast package, which I will use to gather the data."
   ]
  },
  {
   "cell_type": "code",
   "execution_count": null,
   "id": "9841c375",
   "metadata": {},
   "outputs": [],
   "source": [
    "from pybaseball import statcast"
   ]
  },
  {
   "cell_type": "markdown",
   "id": "424117ed",
   "metadata": {},
   "source": [
    "The data that I will use to fit my model is from the entire 2022 MLB season"
   ]
  },
  {
   "cell_type": "code",
   "execution_count": 10,
   "id": "91f9b122",
   "metadata": {},
   "outputs": [],
   "source": [
    "# load statcast dataset\n",
    "pitches = statcast(start_dt=\"2022-04-07\", end_dt=\"2022-10-05\")"
   ]
  },
  {
   "cell_type": "code",
   "execution_count": 15,
   "id": "643c22ef",
   "metadata": {},
   "outputs": [
    {
     "data": {
      "text/html": [
       "<div>\n",
       "<style scoped>\n",
       "    .dataframe tbody tr th:only-of-type {\n",
       "        vertical-align: middle;\n",
       "    }\n",
       "\n",
       "    .dataframe tbody tr th {\n",
       "        vertical-align: top;\n",
       "    }\n",
       "\n",
       "    .dataframe thead th {\n",
       "        text-align: right;\n",
       "    }\n",
       "</style>\n",
       "<table border=\"1\" class=\"dataframe\">\n",
       "  <thead>\n",
       "    <tr style=\"text-align: right;\">\n",
       "      <th></th>\n",
       "      <th>pitch_type</th>\n",
       "      <th>game_date</th>\n",
       "      <th>release_speed</th>\n",
       "      <th>release_pos_x</th>\n",
       "      <th>release_pos_z</th>\n",
       "      <th>player_name</th>\n",
       "      <th>batter</th>\n",
       "      <th>pitcher</th>\n",
       "      <th>events</th>\n",
       "      <th>description</th>\n",
       "      <th>...</th>\n",
       "      <th>fld_score</th>\n",
       "      <th>post_away_score</th>\n",
       "      <th>post_home_score</th>\n",
       "      <th>post_bat_score</th>\n",
       "      <th>post_fld_score</th>\n",
       "      <th>if_fielding_alignment</th>\n",
       "      <th>of_fielding_alignment</th>\n",
       "      <th>spin_axis</th>\n",
       "      <th>delta_home_win_exp</th>\n",
       "      <th>delta_run_exp</th>\n",
       "    </tr>\n",
       "  </thead>\n",
       "  <tbody>\n",
       "    <tr>\n",
       "      <th>3179</th>\n",
       "      <td>CH</td>\n",
       "      <td>2022-10-05</td>\n",
       "      <td>80.8</td>\n",
       "      <td>-0.76</td>\n",
       "      <td>6.61</td>\n",
       "      <td>Baker, Bryan</td>\n",
       "      <td>624415</td>\n",
       "      <td>641329</td>\n",
       "      <td>field_out</td>\n",
       "      <td>hit_into_play</td>\n",
       "      <td>...</td>\n",
       "      <td>5</td>\n",
       "      <td>4</td>\n",
       "      <td>5</td>\n",
       "      <td>4</td>\n",
       "      <td>5</td>\n",
       "      <td>Infield shift</td>\n",
       "      <td>Standard</td>\n",
       "      <td>213.0</td>\n",
       "      <td>0.035</td>\n",
       "      <td>-0.099</td>\n",
       "    </tr>\n",
       "    <tr>\n",
       "      <th>3366</th>\n",
       "      <td>FF</td>\n",
       "      <td>2022-10-05</td>\n",
       "      <td>97.7</td>\n",
       "      <td>-0.58</td>\n",
       "      <td>6.60</td>\n",
       "      <td>Baker, Bryan</td>\n",
       "      <td>643376</td>\n",
       "      <td>641329</td>\n",
       "      <td>strikeout</td>\n",
       "      <td>swinging_strike</td>\n",
       "      <td>...</td>\n",
       "      <td>5</td>\n",
       "      <td>4</td>\n",
       "      <td>5</td>\n",
       "      <td>4</td>\n",
       "      <td>5</td>\n",
       "      <td>Standard</td>\n",
       "      <td>Standard</td>\n",
       "      <td>189.0</td>\n",
       "      <td>0.052</td>\n",
       "      <td>-0.134</td>\n",
       "    </tr>\n",
       "    <tr>\n",
       "      <th>3520</th>\n",
       "      <td>CH</td>\n",
       "      <td>2022-10-05</td>\n",
       "      <td>84.9</td>\n",
       "      <td>-0.55</td>\n",
       "      <td>6.58</td>\n",
       "      <td>Baker, Bryan</td>\n",
       "      <td>643376</td>\n",
       "      <td>641329</td>\n",
       "      <td>NaN</td>\n",
       "      <td>ball</td>\n",
       "      <td>...</td>\n",
       "      <td>5</td>\n",
       "      <td>4</td>\n",
       "      <td>5</td>\n",
       "      <td>4</td>\n",
       "      <td>5</td>\n",
       "      <td>Standard</td>\n",
       "      <td>Standard</td>\n",
       "      <td>212.0</td>\n",
       "      <td>0.000</td>\n",
       "      <td>0.023</td>\n",
       "    </tr>\n",
       "    <tr>\n",
       "      <th>3682</th>\n",
       "      <td>FF</td>\n",
       "      <td>2022-10-05</td>\n",
       "      <td>97.2</td>\n",
       "      <td>-0.42</td>\n",
       "      <td>6.60</td>\n",
       "      <td>Baker, Bryan</td>\n",
       "      <td>643376</td>\n",
       "      <td>641329</td>\n",
       "      <td>NaN</td>\n",
       "      <td>swinging_strike</td>\n",
       "      <td>...</td>\n",
       "      <td>5</td>\n",
       "      <td>4</td>\n",
       "      <td>5</td>\n",
       "      <td>4</td>\n",
       "      <td>5</td>\n",
       "      <td>Standard</td>\n",
       "      <td>Standard</td>\n",
       "      <td>192.0</td>\n",
       "      <td>0.000</td>\n",
       "      <td>-0.036</td>\n",
       "    </tr>\n",
       "    <tr>\n",
       "      <th>3854</th>\n",
       "      <td>SL</td>\n",
       "      <td>2022-10-05</td>\n",
       "      <td>86.2</td>\n",
       "      <td>-0.55</td>\n",
       "      <td>6.64</td>\n",
       "      <td>Baker, Bryan</td>\n",
       "      <td>643376</td>\n",
       "      <td>641329</td>\n",
       "      <td>NaN</td>\n",
       "      <td>called_strike</td>\n",
       "      <td>...</td>\n",
       "      <td>5</td>\n",
       "      <td>4</td>\n",
       "      <td>5</td>\n",
       "      <td>4</td>\n",
       "      <td>5</td>\n",
       "      <td>Standard</td>\n",
       "      <td>Standard</td>\n",
       "      <td>127.0</td>\n",
       "      <td>0.000</td>\n",
       "      <td>-0.031</td>\n",
       "    </tr>\n",
       "  </tbody>\n",
       "</table>\n",
       "<p>5 rows × 92 columns</p>\n",
       "</div>"
      ],
      "text/plain": [
       "     pitch_type   game_date  release_speed  release_pos_x  release_pos_z  \\\n",
       "3179         CH  2022-10-05           80.8          -0.76           6.61   \n",
       "3366         FF  2022-10-05           97.7          -0.58           6.60   \n",
       "3520         CH  2022-10-05           84.9          -0.55           6.58   \n",
       "3682         FF  2022-10-05           97.2          -0.42           6.60   \n",
       "3854         SL  2022-10-05           86.2          -0.55           6.64   \n",
       "\n",
       "       player_name  batter  pitcher     events      description  ...  \\\n",
       "3179  Baker, Bryan  624415   641329  field_out    hit_into_play  ...   \n",
       "3366  Baker, Bryan  643376   641329  strikeout  swinging_strike  ...   \n",
       "3520  Baker, Bryan  643376   641329        NaN             ball  ...   \n",
       "3682  Baker, Bryan  643376   641329        NaN  swinging_strike  ...   \n",
       "3854  Baker, Bryan  643376   641329        NaN    called_strike  ...   \n",
       "\n",
       "      fld_score  post_away_score  post_home_score  post_bat_score  \\\n",
       "3179          5                4                5               4   \n",
       "3366          5                4                5               4   \n",
       "3520          5                4                5               4   \n",
       "3682          5                4                5               4   \n",
       "3854          5                4                5               4   \n",
       "\n",
       "      post_fld_score if_fielding_alignment of_fielding_alignment spin_axis  \\\n",
       "3179               5         Infield shift              Standard     213.0   \n",
       "3366               5              Standard              Standard     189.0   \n",
       "3520               5              Standard              Standard     212.0   \n",
       "3682               5              Standard              Standard     192.0   \n",
       "3854               5              Standard              Standard     127.0   \n",
       "\n",
       "     delta_home_win_exp delta_run_exp  \n",
       "3179              0.035        -0.099  \n",
       "3366              0.052        -0.134  \n",
       "3520              0.000         0.023  \n",
       "3682              0.000        -0.036  \n",
       "3854              0.000        -0.031  \n",
       "\n",
       "[5 rows x 92 columns]"
      ]
     },
     "execution_count": 15,
     "metadata": {},
     "output_type": "execute_result"
    }
   ],
   "source": [
    "pitches.head()"
   ]
  },
  {
   "cell_type": "code",
   "execution_count": 16,
   "id": "84cbe65d",
   "metadata": {},
   "outputs": [
    {
     "data": {
      "text/plain": [
       "708540"
      ]
     },
     "execution_count": 16,
     "metadata": {},
     "output_type": "execute_result"
    }
   ],
   "source": [
    "# number of pitches in dataset\n",
    "len(pitches.index)"
   ]
  },
  {
   "cell_type": "markdown",
   "id": "b2aae087",
   "metadata": {},
   "source": [
    "# Section 3 - Data Cleaning"
   ]
  },
  {
   "cell_type": "markdown",
   "id": "7d73fee0",
   "metadata": {},
   "source": [
    "## Formatting Pitch Type"
   ]
  },
  {
   "cell_type": "code",
   "execution_count": 17,
   "id": "bc0a848e",
   "metadata": {},
   "outputs": [
    {
     "data": {
      "text/plain": [
       "pitch_type  pitch_name     \n",
       "CH          Changeup            79427\n",
       "CS          Slow Curve             96\n",
       "CU          Curveball           54937\n",
       "EP          Eephus                514\n",
       "FA          Other                1269\n",
       "FC          Cutter              51011\n",
       "FF          4-Seam Fastball    235178\n",
       "FS          Split-Finger        11206\n",
       "KC          Knuckle Curve       15378\n",
       "KN          Knuckleball            19\n",
       "PO          Pitch Out              40\n",
       "SI          Sinker             109385\n",
       "SL          Slider             126166\n",
       "ST          Sweeper             21085\n",
       "SV          Slurve               2456\n",
       "dtype: int64"
      ]
     },
     "execution_count": 17,
     "metadata": {},
     "output_type": "execute_result"
    }
   ],
   "source": [
    "pitches.groupby(['pitch_type', 'pitch_name']).size()"
   ]
  },
  {
   "cell_type": "code",
   "execution_count": 18,
   "id": "f9bcb21b",
   "metadata": {},
   "outputs": [
    {
     "data": {
      "text/plain": [
       "player_name\n",
       "Darvish, Yu          1\n",
       "Duffey, Tyler       16\n",
       "Gray, Sonny          6\n",
       "Hill, Rich          19\n",
       "McHugh, Collin      11\n",
       "Mikolas, Miles       9\n",
       "Ohtani, Shohei       1\n",
       "Wainwright, Adam    33\n",
       "dtype: int64"
      ]
     },
     "execution_count": 18,
     "metadata": {},
     "output_type": "execute_result"
    }
   ],
   "source": [
    "# view pitchers who threw a slow curve\n",
    "pitches[pitches['pitch_type'] == 'CS'][['pitch_type', 'player_name']].groupby('player_name').size()"
   ]
  },
  {
   "cell_type": "code",
   "execution_count": 19,
   "id": "d16c838a",
   "metadata": {},
   "outputs": [],
   "source": [
    "# merge slow curve with curveball\n",
    "pitches = pitches.replace('CS', 'CU')\n",
    "pitches = pitches.replace('Slow Curve', 'Curveball')"
   ]
  },
  {
   "cell_type": "code",
   "execution_count": 20,
   "id": "1b7b3a94",
   "metadata": {},
   "outputs": [
    {
     "data": {
      "text/plain": [
       "player_name\n",
       "Alberto, Hanser            1\n",
       "Arcia, Orlando             8\n",
       "Astudillo, Willians       17\n",
       "Barnhart, Tucker           6\n",
       "Batten, Matthew           23\n",
       "Bethancourt, Christian    25\n",
       "Bradley Jr., Jackie        3\n",
       "Brosseau, Mike             1\n",
       "Castillo, Diego           34\n",
       "Castro, Harold            34\n",
       "Chang, Yu                 22\n",
       "Clemens, Kody             83\n",
       "Dickerson, Corey           6\n",
       "Escobar, Alcides           9\n",
       "Gonzalez, Marwin           2\n",
       "González, Luis            68\n",
       "Knizner, Andrew            6\n",
       "Lopez, Alejo              19\n",
       "Molina, Yadier             1\n",
       "Myers, Wil                 5\n",
       "Neuse, Sheldon            24\n",
       "Owings, Chris              9\n",
       "Palacios, Jermaine         3\n",
       "Peterson, Jace             7\n",
       "Reyes, Pablo               8\n",
       "Ruf, Darin                14\n",
       "Schwindel, Frank          16\n",
       "Stubbs, Garrett           15\n",
       "Sánchez, Yolmer            7\n",
       "VanMeter, Josh            12\n",
       "Vargas, Ildemaro           4\n",
       "Walton, Donovan           13\n",
       "Wynns, Austin              9\n",
       "dtype: int64"
      ]
     },
     "execution_count": 20,
     "metadata": {},
     "output_type": "execute_result"
    }
   ],
   "source": [
    "# view pitchers who threw an eephus\n",
    "pitches[pitches['pitch_type'] == 'EP'][['pitch_type', 'player_name']].groupby('player_name').size()"
   ]
  },
  {
   "cell_type": "code",
   "execution_count": 21,
   "id": "a2f79e26",
   "metadata": {},
   "outputs": [
    {
     "data": {
      "text/plain": [
       "player_name\n",
       "Adrianza, Ehire            12\n",
       "Alberto, Hanser           151\n",
       "Arcia, Orlando              2\n",
       "Astudillo, Willians         6\n",
       "Barnhart, Tucker            1\n",
       "Batten, Matthew             3\n",
       "Bethancourt, Christian     27\n",
       "Bradley Jr., Jackie        27\n",
       "Brosseau, Mike             43\n",
       "Caratini, Victor           14\n",
       "Castillo, Diego            26\n",
       "Castro, Harold             16\n",
       "Chang, Yu                   2\n",
       "Clemens, Kody               5\n",
       "Clement, Ernie             32\n",
       "Culberson, Charlie         26\n",
       "Dickerson, Corey           12\n",
       "Escobar, Alcides            3\n",
       "Ford, Mike                 15\n",
       "González, Luis             18\n",
       "Gordon, Nick               85\n",
       "Hager, Jake                28\n",
       "Hall, Darick                6\n",
       "Harrison, Josh             51\n",
       "Kelly, Carson              68\n",
       "Knizner, Andrew             4\n",
       "León, Sandy                17\n",
       "Lopez, Alejo                7\n",
       "Lopez, Nicky               12\n",
       "Maton, Nick                25\n",
       "Mayfield, Jack              4\n",
       "McKenna, Ryan              31\n",
       "Merrifield, Whit           12\n",
       "Molina, Yadier             12\n",
       "Myers, Wil                 38\n",
       "Neuse, Sheldon              8\n",
       "Owings, Chris               1\n",
       "Palacios, Jermaine          5\n",
       "Peterson, Jace              1\n",
       "Phillips, Brett            59\n",
       "Pinder, Chad               26\n",
       "Plawecki, Kevin            14\n",
       "Pujols, Albert             19\n",
       "Reyes, Pablo                1\n",
       "Reynolds, Matt             20\n",
       "Schrock, Max               26\n",
       "Schwindel, Frank           24\n",
       "Serven, Brian               8\n",
       "Simmons, Andrelton         21\n",
       "Strange-Gordon, Dee        28\n",
       "Stubbs, Garrett            45\n",
       "Sánchez, Yolmer             8\n",
       "Taylor, Michael A.          9\n",
       "Torrens, Luis              33\n",
       "VanMeter, Josh             62\n",
       "Vargas, Ildemaro            2\n",
       "Walton, Donovan             8\n",
       "dtype: int64"
      ]
     },
     "execution_count": 21,
     "metadata": {},
     "output_type": "execute_result"
    }
   ],
   "source": [
    "# view pitchers who threw a pitch classified as other\n",
    "pitches[pitches['pitch_type'] == 'FA'][['pitch_type', 'player_name']].groupby('player_name').size()"
   ]
  },
  {
   "cell_type": "code",
   "execution_count": 22,
   "id": "d1b4db6f",
   "metadata": {},
   "outputs": [
    {
     "data": {
      "text/plain": [
       "player_name\n",
       "Clement, Ernie      10\n",
       "Mayfield, Jack       7\n",
       "Schwindel, Frank     2\n",
       "dtype: int64"
      ]
     },
     "execution_count": 22,
     "metadata": {},
     "output_type": "execute_result"
    }
   ],
   "source": [
    "# view pitchers who threw a knuckleball\n",
    "pitches[pitches['pitch_type'] == 'KN'][['pitch_type', 'player_name']].groupby('player_name').size()"
   ]
  },
  {
   "cell_type": "code",
   "execution_count": 23,
   "id": "3bf5d238",
   "metadata": {},
   "outputs": [],
   "source": [
    "# filter to remove EP, FA, KN, PO\n",
    "pitches = pitches[pitches['pitch_type'].isin(['CH', 'CU', 'FC', 'FF', 'FS', 'KC', 'SI', 'SL', 'ST', 'SV'])]"
   ]
  },
  {
   "cell_type": "code",
   "execution_count": 24,
   "id": "aaf79347",
   "metadata": {},
   "outputs": [
    {
     "data": {
      "text/plain": [
       "706325"
      ]
     },
     "execution_count": 24,
     "metadata": {},
     "output_type": "execute_result"
    }
   ],
   "source": [
    "# number of pitches in modified and filtered dataset\n",
    "len(pitches.index)"
   ]
  },
  {
   "cell_type": "code",
   "execution_count": 25,
   "id": "0293b2f2",
   "metadata": {},
   "outputs": [
    {
     "data": {
      "text/plain": [
       "pitch_type  pitch_name     \n",
       "CH          Changeup            79427\n",
       "CU          Curveball           55033\n",
       "FC          Cutter              51011\n",
       "FF          4-Seam Fastball    235178\n",
       "FS          Split-Finger        11206\n",
       "KC          Knuckle Curve       15378\n",
       "SI          Sinker             109385\n",
       "SL          Slider             126166\n",
       "ST          Sweeper             21085\n",
       "SV          Slurve               2456\n",
       "dtype: int64"
      ]
     },
     "execution_count": 25,
     "metadata": {},
     "output_type": "execute_result"
    }
   ],
   "source": [
    "# modified and filtered pitch types\n",
    "pitches.groupby(['pitch_type', 'pitch_name']).size()"
   ]
  },
  {
   "cell_type": "code",
   "execution_count": 26,
   "id": "e3073139",
   "metadata": {},
   "outputs": [],
   "source": [
    "def create_binary_pitch_type_column(pitch_type):\n",
    "    # add boolean column for pitch_type thrown\n",
    "    # add boolean column with pitch_type in lowercase letters\n",
    "    pitches[pitch_type] = pitches['pitch_type'] == pitch_type\n",
    "    # convert to binary\n",
    "    pitches[pitch_type] = pitches[pitch_type].replace({True: 1, False: 0})"
   ]
  },
  {
   "cell_type": "code",
   "execution_count": 27,
   "id": "ddbbc576",
   "metadata": {},
   "outputs": [],
   "source": [
    "create_binary_pitch_type_column('CH')\n",
    "create_binary_pitch_type_column('CU')\n",
    "create_binary_pitch_type_column('FC')\n",
    "create_binary_pitch_type_column('FF')\n",
    "create_binary_pitch_type_column('FS')\n",
    "create_binary_pitch_type_column('KC')\n",
    "create_binary_pitch_type_column('SI')\n",
    "create_binary_pitch_type_column('SL')\n",
    "create_binary_pitch_type_column('ST')\n",
    "create_binary_pitch_type_column('SV')"
   ]
  },
  {
   "cell_type": "code",
   "execution_count": 28,
   "id": "4a690266",
   "metadata": {},
   "outputs": [
    {
     "data": {
      "text/html": [
       "<div>\n",
       "<style scoped>\n",
       "    .dataframe tbody tr th:only-of-type {\n",
       "        vertical-align: middle;\n",
       "    }\n",
       "\n",
       "    .dataframe tbody tr th {\n",
       "        vertical-align: top;\n",
       "    }\n",
       "\n",
       "    .dataframe thead th {\n",
       "        text-align: right;\n",
       "    }\n",
       "</style>\n",
       "<table border=\"1\" class=\"dataframe\">\n",
       "  <thead>\n",
       "    <tr style=\"text-align: right;\">\n",
       "      <th></th>\n",
       "      <th>pitch_type</th>\n",
       "      <th>game_date</th>\n",
       "      <th>release_speed</th>\n",
       "      <th>release_pos_x</th>\n",
       "      <th>release_pos_z</th>\n",
       "      <th>player_name</th>\n",
       "      <th>batter</th>\n",
       "      <th>pitcher</th>\n",
       "      <th>events</th>\n",
       "      <th>description</th>\n",
       "      <th>...</th>\n",
       "      <th>CH</th>\n",
       "      <th>CU</th>\n",
       "      <th>FC</th>\n",
       "      <th>FF</th>\n",
       "      <th>FS</th>\n",
       "      <th>KC</th>\n",
       "      <th>SI</th>\n",
       "      <th>SL</th>\n",
       "      <th>ST</th>\n",
       "      <th>SV</th>\n",
       "    </tr>\n",
       "  </thead>\n",
       "  <tbody>\n",
       "  </tbody>\n",
       "</table>\n",
       "<p>0 rows × 102 columns</p>\n",
       "</div>"
      ],
      "text/plain": [
       "Empty DataFrame\n",
       "Columns: [pitch_type, game_date, release_speed, release_pos_x, release_pos_z, player_name, batter, pitcher, events, description, spin_dir, spin_rate_deprecated, break_angle_deprecated, break_length_deprecated, zone, des, game_type, stand, p_throws, home_team, away_team, type, hit_location, bb_type, balls, strikes, game_year, pfx_x, pfx_z, plate_x, plate_z, on_3b, on_2b, on_1b, outs_when_up, inning, inning_topbot, hc_x, hc_y, tfs_deprecated, tfs_zulu_deprecated, fielder_2, umpire, sv_id, vx0, vy0, vz0, ax, ay, az, sz_top, sz_bot, hit_distance_sc, launch_speed, launch_angle, effective_speed, release_spin_rate, release_extension, game_pk, pitcher.1, fielder_2.1, fielder_3, fielder_4, fielder_5, fielder_6, fielder_7, fielder_8, fielder_9, release_pos_y, estimated_ba_using_speedangle, estimated_woba_using_speedangle, woba_value, woba_denom, babip_value, iso_value, launch_speed_angle, at_bat_number, pitch_number, pitch_name, home_score, away_score, bat_score, fld_score, post_away_score, post_home_score, post_bat_score, post_fld_score, if_fielding_alignment, of_fielding_alignment, spin_axis, delta_home_win_exp, delta_run_exp, CH, CU, FC, FF, FS, KC, SI, SL, ...]\n",
       "Index: []\n",
       "\n",
       "[0 rows x 102 columns]"
      ]
     },
     "execution_count": 28,
     "metadata": {},
     "output_type": "execute_result"
    }
   ],
   "source": [
    "# check for pitch outside of desired pitches\n",
    "pitches[(pitches['CH'] == 0) & (pitches['CU'] == 0) & (pitches['FC'] == 0) & (pitches['FF'] == 0) & (pitches['FS'] == 0) & (pitches['KC'] == 0) & (pitches['SI'] == 0) & (pitches['SL'] == 0) & (pitches['ST'] == 0) & (pitches['SV'] == 0)].head()"
   ]
  },
  {
   "cell_type": "markdown",
   "id": "3502d179",
   "metadata": {},
   "source": [
    "## Formatting Events"
   ]
  },
  {
   "cell_type": "code",
   "execution_count": 29,
   "id": "756f71c2",
   "metadata": {},
   "outputs": [
    {
     "data": {
      "text/plain": [
       "events\n",
       "catcher_interf                     74\n",
       "caught_stealing_2b                209\n",
       "caught_stealing_3b                 10\n",
       "caught_stealing_home               12\n",
       "double                           7894\n",
       "double_play                       394\n",
       "field_error                      1134\n",
       "field_out                       73247\n",
       "fielders_choice                   383\n",
       "fielders_choice_out               282\n",
       "force_out                        3812\n",
       "game_advisory                       1\n",
       "grounded_into_double_play        3368\n",
       "hit_by_pitch                     2032\n",
       "home_run                         5173\n",
       "other_out                          32\n",
       "pickoff_1b                         16\n",
       "pickoff_2b                          2\n",
       "pickoff_3b                          3\n",
       "pickoff_caught_stealing_2b          2\n",
       "pickoff_caught_stealing_3b          1\n",
       "pickoff_caught_stealing_home        2\n",
       "sac_bunt                          390\n",
       "sac_fly                          1191\n",
       "sac_fly_double_play                22\n",
       "single                          25743\n",
       "strikeout                       40648\n",
       "strikeout_double_play             121\n",
       "triple                            641\n",
       "triple_play                         6\n",
       "walk                            14317\n",
       "wild_pitch                          8\n",
       "dtype: int64"
      ]
     },
     "execution_count": 29,
     "metadata": {},
     "output_type": "execute_result"
    }
   ],
   "source": [
    "pitches.groupby('events').size()"
   ]
  },
  {
   "cell_type": "code",
   "execution_count": 30,
   "id": "3049b5b6",
   "metadata": {},
   "outputs": [],
   "source": [
    "def create_binary_events_column_single(event, column_name):\n",
    "    # add boolean column for event\n",
    "    pitches[column_name] = pitches['events'] == event\n",
    "    # convert to binary\n",
    "    pitches[column_name] = pitches[column_name].replace({True: 1, False: 0})"
   ]
  },
  {
   "cell_type": "code",
   "execution_count": 31,
   "id": "809bbbf2",
   "metadata": {},
   "outputs": [],
   "source": [
    "def create_binary_events_column_multiple(events, column_name):\n",
    "    # add boolean column for events\n",
    "    pitches[column_name] = pitches['events'].isin(events)\n",
    "    # convert to binary\n",
    "    pitches[column_name] = pitches[column_name].replace({True: 1, False: 0})"
   ]
  },
  {
   "cell_type": "code",
   "execution_count": 32,
   "id": "b174812e",
   "metadata": {},
   "outputs": [],
   "source": [
    "ab_events = ['double', 'double_play', 'field_error', 'field_out', 'fielders_choice', 'fielders_choice_out', 'force_out', 'grounded_into_double_play', 'home_run', 'other_out', 'single', 'strikeout', 'strikeout_double_play', 'triple', 'triple_play']\n",
    "create_binary_events_column_multiple(ab_events, 'ab')"
   ]
  },
  {
   "cell_type": "code",
   "execution_count": 33,
   "id": "1643fabf",
   "metadata": {},
   "outputs": [],
   "source": [
    "create_binary_events_column_single('single', 'x1b')\n",
    "create_binary_events_column_single('double', 'x2b')\n",
    "create_binary_events_column_single('triple', 'x3b')\n",
    "create_binary_events_column_single('home_run', 'hr')\n",
    "create_binary_events_column_single('walk', 'ubb')\n",
    "create_binary_events_column_single('hit_by_pitch', 'hbp')"
   ]
  },
  {
   "cell_type": "code",
   "execution_count": 34,
   "id": "f2dca38d",
   "metadata": {},
   "outputs": [],
   "source": [
    "sf_events = ['sac_fly', 'sac_fly_double_play']\n",
    "create_binary_events_column_multiple(sf_events, 'sf')"
   ]
  },
  {
   "cell_type": "code",
   "execution_count": 35,
   "id": "bc133f40",
   "metadata": {},
   "outputs": [
    {
     "data": {
      "text/html": [
       "<div>\n",
       "<style scoped>\n",
       "    .dataframe tbody tr th:only-of-type {\n",
       "        vertical-align: middle;\n",
       "    }\n",
       "\n",
       "    .dataframe tbody tr th {\n",
       "        vertical-align: top;\n",
       "    }\n",
       "\n",
       "    .dataframe thead th {\n",
       "        text-align: right;\n",
       "    }\n",
       "</style>\n",
       "<table border=\"1\" class=\"dataframe\">\n",
       "  <thead>\n",
       "    <tr style=\"text-align: right;\">\n",
       "      <th></th>\n",
       "      <th>ab</th>\n",
       "      <th>x1b</th>\n",
       "      <th>x2b</th>\n",
       "      <th>x3b</th>\n",
       "      <th>hr</th>\n",
       "      <th>ubb</th>\n",
       "      <th>hbp</th>\n",
       "      <th>sf</th>\n",
       "    </tr>\n",
       "    <tr>\n",
       "      <th>player_name</th>\n",
       "      <th></th>\n",
       "      <th></th>\n",
       "      <th></th>\n",
       "      <th></th>\n",
       "      <th></th>\n",
       "      <th></th>\n",
       "      <th></th>\n",
       "      <th></th>\n",
       "    </tr>\n",
       "  </thead>\n",
       "  <tbody>\n",
       "    <tr>\n",
       "      <th>Abbott, Cory</th>\n",
       "      <td>184</td>\n",
       "      <td>20</td>\n",
       "      <td>12</td>\n",
       "      <td>0</td>\n",
       "      <td>12</td>\n",
       "      <td>25</td>\n",
       "      <td>5</td>\n",
       "      <td>2</td>\n",
       "    </tr>\n",
       "    <tr>\n",
       "      <th>Abreu, Albert</th>\n",
       "      <td>144</td>\n",
       "      <td>25</td>\n",
       "      <td>5</td>\n",
       "      <td>0</td>\n",
       "      <td>5</td>\n",
       "      <td>22</td>\n",
       "      <td>3</td>\n",
       "      <td>2</td>\n",
       "    </tr>\n",
       "    <tr>\n",
       "      <th>Abreu, Bryan</th>\n",
       "      <td>217</td>\n",
       "      <td>36</td>\n",
       "      <td>7</td>\n",
       "      <td>0</td>\n",
       "      <td>2</td>\n",
       "      <td>26</td>\n",
       "      <td>4</td>\n",
       "      <td>1</td>\n",
       "    </tr>\n",
       "    <tr>\n",
       "      <th>Acevedo, Domingo</th>\n",
       "      <td>243</td>\n",
       "      <td>29</td>\n",
       "      <td>11</td>\n",
       "      <td>1</td>\n",
       "      <td>9</td>\n",
       "      <td>13</td>\n",
       "      <td>3</td>\n",
       "      <td>1</td>\n",
       "    </tr>\n",
       "    <tr>\n",
       "      <th>Adam, Jason</th>\n",
       "      <td>211</td>\n",
       "      <td>22</td>\n",
       "      <td>3</td>\n",
       "      <td>1</td>\n",
       "      <td>5</td>\n",
       "      <td>15</td>\n",
       "      <td>6</td>\n",
       "      <td>2</td>\n",
       "    </tr>\n",
       "  </tbody>\n",
       "</table>\n",
       "</div>"
      ],
      "text/plain": [
       "                   ab  x1b  x2b  x3b  hr  ubb  hbp  sf\n",
       "player_name                                           \n",
       "Abbott, Cory      184   20   12    0  12   25    5   2\n",
       "Abreu, Albert     144   25    5    0   5   22    3   2\n",
       "Abreu, Bryan      217   36    7    0   2   26    4   1\n",
       "Acevedo, Domingo  243   29   11    1   9   13    3   1\n",
       "Adam, Jason       211   22    3    1   5   15    6   2"
      ]
     },
     "execution_count": 35,
     "metadata": {},
     "output_type": "execute_result"
    }
   ],
   "source": [
    "pitches.groupby('player_name')[['ab', 'x1b', 'x2b', 'x3b', 'hr', 'ubb', 'hbp', 'sf']].sum().head()"
   ]
  },
  {
   "cell_type": "markdown",
   "id": "6c663210",
   "metadata": {},
   "source": [
    "# Section 4 - Calculating Pitch Use Percentages and wOBA Against"
   ]
  },
  {
   "cell_type": "markdown",
   "id": "9eb5a1d7",
   "metadata": {},
   "source": [
    "## Pitch Use in Full Season"
   ]
  },
  {
   "cell_type": "code",
   "execution_count": 36,
   "id": "21f00373",
   "metadata": {},
   "outputs": [],
   "source": [
    "pitch_use_full_season = pitches.groupby('player_name')[['CH', 'CU', 'FC', 'FF', 'FS', 'KC', 'SI', 'SL', 'ST', 'SV']].agg({'CH': 'mean', 'CU': 'mean', 'FC': 'mean', 'FF': 'mean', 'FS': 'mean', 'KC': 'mean', 'SI': 'mean', 'SL': 'mean', 'ST': 'mean', 'SV': 'mean'})\n",
    "pitch_use_full_season = pitch_use_full_season.round({'CH': 3, 'CU': 3, 'FC': 3, 'FF': 3, 'FS': 3, 'KC': 3, 'SI': 3, 'SL': 3, 'ST': 3, 'SV': 3})"
   ]
  },
  {
   "cell_type": "code",
   "execution_count": 37,
   "id": "ed5659e2",
   "metadata": {},
   "outputs": [
    {
     "data": {
      "text/html": [
       "<div>\n",
       "<style scoped>\n",
       "    .dataframe tbody tr th:only-of-type {\n",
       "        vertical-align: middle;\n",
       "    }\n",
       "\n",
       "    .dataframe tbody tr th {\n",
       "        vertical-align: top;\n",
       "    }\n",
       "\n",
       "    .dataframe thead th {\n",
       "        text-align: right;\n",
       "    }\n",
       "</style>\n",
       "<table border=\"1\" class=\"dataframe\">\n",
       "  <thead>\n",
       "    <tr style=\"text-align: right;\">\n",
       "      <th></th>\n",
       "      <th>CH</th>\n",
       "      <th>CU</th>\n",
       "      <th>FC</th>\n",
       "      <th>FF</th>\n",
       "      <th>FS</th>\n",
       "      <th>KC</th>\n",
       "      <th>SI</th>\n",
       "      <th>SL</th>\n",
       "      <th>ST</th>\n",
       "      <th>SV</th>\n",
       "    </tr>\n",
       "    <tr>\n",
       "      <th>player_name</th>\n",
       "      <th></th>\n",
       "      <th></th>\n",
       "      <th></th>\n",
       "      <th></th>\n",
       "      <th></th>\n",
       "      <th></th>\n",
       "      <th></th>\n",
       "      <th></th>\n",
       "      <th></th>\n",
       "      <th></th>\n",
       "    </tr>\n",
       "  </thead>\n",
       "  <tbody>\n",
       "    <tr>\n",
       "      <th>Abbott, Cory</th>\n",
       "      <td>0.000</td>\n",
       "      <td>0.000</td>\n",
       "      <td>0.0</td>\n",
       "      <td>0.509</td>\n",
       "      <td>0.0</td>\n",
       "      <td>0.222</td>\n",
       "      <td>0.000</td>\n",
       "      <td>0.269</td>\n",
       "      <td>0.000</td>\n",
       "      <td>0.0</td>\n",
       "    </tr>\n",
       "    <tr>\n",
       "      <th>Abreu, Albert</th>\n",
       "      <td>0.100</td>\n",
       "      <td>0.000</td>\n",
       "      <td>0.0</td>\n",
       "      <td>0.119</td>\n",
       "      <td>0.0</td>\n",
       "      <td>0.000</td>\n",
       "      <td>0.488</td>\n",
       "      <td>0.293</td>\n",
       "      <td>0.000</td>\n",
       "      <td>0.0</td>\n",
       "    </tr>\n",
       "    <tr>\n",
       "      <th>Abreu, Bryan</th>\n",
       "      <td>0.003</td>\n",
       "      <td>0.101</td>\n",
       "      <td>0.0</td>\n",
       "      <td>0.450</td>\n",
       "      <td>0.0</td>\n",
       "      <td>0.000</td>\n",
       "      <td>0.004</td>\n",
       "      <td>0.442</td>\n",
       "      <td>0.000</td>\n",
       "      <td>0.0</td>\n",
       "    </tr>\n",
       "    <tr>\n",
       "      <th>Acevedo, Domingo</th>\n",
       "      <td>0.221</td>\n",
       "      <td>0.000</td>\n",
       "      <td>0.0</td>\n",
       "      <td>0.424</td>\n",
       "      <td>0.0</td>\n",
       "      <td>0.000</td>\n",
       "      <td>0.009</td>\n",
       "      <td>0.346</td>\n",
       "      <td>0.000</td>\n",
       "      <td>0.0</td>\n",
       "    </tr>\n",
       "    <tr>\n",
       "      <th>Adam, Jason</th>\n",
       "      <td>0.322</td>\n",
       "      <td>0.000</td>\n",
       "      <td>0.0</td>\n",
       "      <td>0.321</td>\n",
       "      <td>0.0</td>\n",
       "      <td>0.000</td>\n",
       "      <td>0.000</td>\n",
       "      <td>0.000</td>\n",
       "      <td>0.358</td>\n",
       "      <td>0.0</td>\n",
       "    </tr>\n",
       "  </tbody>\n",
       "</table>\n",
       "</div>"
      ],
      "text/plain": [
       "                     CH     CU   FC     FF   FS     KC     SI     SL     ST  \\\n",
       "player_name                                                                   \n",
       "Abbott, Cory      0.000  0.000  0.0  0.509  0.0  0.222  0.000  0.269  0.000   \n",
       "Abreu, Albert     0.100  0.000  0.0  0.119  0.0  0.000  0.488  0.293  0.000   \n",
       "Abreu, Bryan      0.003  0.101  0.0  0.450  0.0  0.000  0.004  0.442  0.000   \n",
       "Acevedo, Domingo  0.221  0.000  0.0  0.424  0.0  0.000  0.009  0.346  0.000   \n",
       "Adam, Jason       0.322  0.000  0.0  0.321  0.0  0.000  0.000  0.000  0.358   \n",
       "\n",
       "                   SV  \n",
       "player_name            \n",
       "Abbott, Cory      0.0  \n",
       "Abreu, Albert     0.0  \n",
       "Abreu, Bryan      0.0  \n",
       "Acevedo, Domingo  0.0  \n",
       "Adam, Jason       0.0  "
      ]
     },
     "execution_count": 37,
     "metadata": {},
     "output_type": "execute_result"
    }
   ],
   "source": [
    "pitch_use_full_season.head()"
   ]
  },
  {
   "cell_type": "code",
   "execution_count": 38,
   "id": "30e3e1dc",
   "metadata": {},
   "outputs": [],
   "source": [
    "pitch_use_full_season = pitch_use_full_season.stack()\n",
    "pitch_use_full_season = pitch_use_full_season.to_frame().rename(columns={0: 'pct'})\n",
    "pitch_use_full_season = pitch_use_full_season.rename_axis(['player_name', 'pitch_type'])"
   ]
  },
  {
   "cell_type": "code",
   "execution_count": 40,
   "id": "1f1b6df2",
   "metadata": {},
   "outputs": [],
   "source": [
    "pitch_use_full_season = pitch_use_full_season[pitch_use_full_season['pct'] > 0]"
   ]
  },
  {
   "cell_type": "code",
   "execution_count": 41,
   "id": "6e5e9b6e",
   "metadata": {},
   "outputs": [
    {
     "data": {
      "text/html": [
       "<div>\n",
       "<style scoped>\n",
       "    .dataframe tbody tr th:only-of-type {\n",
       "        vertical-align: middle;\n",
       "    }\n",
       "\n",
       "    .dataframe tbody tr th {\n",
       "        vertical-align: top;\n",
       "    }\n",
       "\n",
       "    .dataframe thead th {\n",
       "        text-align: right;\n",
       "    }\n",
       "</style>\n",
       "<table border=\"1\" class=\"dataframe\">\n",
       "  <thead>\n",
       "    <tr style=\"text-align: right;\">\n",
       "      <th></th>\n",
       "      <th></th>\n",
       "      <th>pct</th>\n",
       "    </tr>\n",
       "    <tr>\n",
       "      <th>player_name</th>\n",
       "      <th>pitch_type</th>\n",
       "      <th></th>\n",
       "    </tr>\n",
       "  </thead>\n",
       "  <tbody>\n",
       "    <tr>\n",
       "      <th rowspan=\"3\" valign=\"top\">Abbott, Cory</th>\n",
       "      <th>FF</th>\n",
       "      <td>0.509</td>\n",
       "    </tr>\n",
       "    <tr>\n",
       "      <th>KC</th>\n",
       "      <td>0.222</td>\n",
       "    </tr>\n",
       "    <tr>\n",
       "      <th>SL</th>\n",
       "      <td>0.269</td>\n",
       "    </tr>\n",
       "    <tr>\n",
       "      <th rowspan=\"2\" valign=\"top\">Abreu, Albert</th>\n",
       "      <th>CH</th>\n",
       "      <td>0.100</td>\n",
       "    </tr>\n",
       "    <tr>\n",
       "      <th>FF</th>\n",
       "      <td>0.119</td>\n",
       "    </tr>\n",
       "  </tbody>\n",
       "</table>\n",
       "</div>"
      ],
      "text/plain": [
       "                            pct\n",
       "player_name   pitch_type       \n",
       "Abbott, Cory  FF          0.509\n",
       "              KC          0.222\n",
       "              SL          0.269\n",
       "Abreu, Albert CH          0.100\n",
       "              FF          0.119"
      ]
     },
     "execution_count": 41,
     "metadata": {},
     "output_type": "execute_result"
    }
   ],
   "source": [
    "pitch_use_full_season.head()"
   ]
  },
  {
   "cell_type": "code",
   "execution_count": 42,
   "id": "6ce79e0c",
   "metadata": {},
   "outputs": [],
   "source": [
    "pitch_rank_full_season = pitch_use_full_season.groupby('player_name').rank(method='min', ascending=False)\n",
    "pitch_rank_full_season['pct'] = pitch_rank_full_season['pct'].apply(np.int64)\n",
    "pitch_rank_full_season = pitch_rank_full_season.rename(columns={'pct': 'use'})"
   ]
  },
  {
   "cell_type": "code",
   "execution_count": 43,
   "id": "9c578bc3",
   "metadata": {},
   "outputs": [
    {
     "data": {
      "text/html": [
       "<div>\n",
       "<style scoped>\n",
       "    .dataframe tbody tr th:only-of-type {\n",
       "        vertical-align: middle;\n",
       "    }\n",
       "\n",
       "    .dataframe tbody tr th {\n",
       "        vertical-align: top;\n",
       "    }\n",
       "\n",
       "    .dataframe thead th {\n",
       "        text-align: right;\n",
       "    }\n",
       "</style>\n",
       "<table border=\"1\" class=\"dataframe\">\n",
       "  <thead>\n",
       "    <tr style=\"text-align: right;\">\n",
       "      <th></th>\n",
       "      <th></th>\n",
       "      <th>use</th>\n",
       "    </tr>\n",
       "    <tr>\n",
       "      <th>player_name</th>\n",
       "      <th>pitch_type</th>\n",
       "      <th></th>\n",
       "    </tr>\n",
       "  </thead>\n",
       "  <tbody>\n",
       "    <tr>\n",
       "      <th rowspan=\"3\" valign=\"top\">Abbott, Cory</th>\n",
       "      <th>FF</th>\n",
       "      <td>1</td>\n",
       "    </tr>\n",
       "    <tr>\n",
       "      <th>KC</th>\n",
       "      <td>3</td>\n",
       "    </tr>\n",
       "    <tr>\n",
       "      <th>SL</th>\n",
       "      <td>2</td>\n",
       "    </tr>\n",
       "    <tr>\n",
       "      <th rowspan=\"2\" valign=\"top\">Abreu, Albert</th>\n",
       "      <th>CH</th>\n",
       "      <td>4</td>\n",
       "    </tr>\n",
       "    <tr>\n",
       "      <th>FF</th>\n",
       "      <td>3</td>\n",
       "    </tr>\n",
       "  </tbody>\n",
       "</table>\n",
       "</div>"
      ],
      "text/plain": [
       "                          use\n",
       "player_name   pitch_type     \n",
       "Abbott, Cory  FF            1\n",
       "              KC            3\n",
       "              SL            2\n",
       "Abreu, Albert CH            4\n",
       "              FF            3"
      ]
     },
     "execution_count": 43,
     "metadata": {},
     "output_type": "execute_result"
    }
   ],
   "source": [
    "pitch_rank_full_season.head()"
   ]
  },
  {
   "cell_type": "code",
   "execution_count": 44,
   "id": "262a0fce",
   "metadata": {},
   "outputs": [
    {
     "data": {
      "text/html": [
       "<div>\n",
       "<style scoped>\n",
       "    .dataframe tbody tr th:only-of-type {\n",
       "        vertical-align: middle;\n",
       "    }\n",
       "\n",
       "    .dataframe tbody tr th {\n",
       "        vertical-align: top;\n",
       "    }\n",
       "\n",
       "    .dataframe thead th {\n",
       "        text-align: right;\n",
       "    }\n",
       "</style>\n",
       "<table border=\"1\" class=\"dataframe\">\n",
       "  <thead>\n",
       "    <tr style=\"text-align: right;\">\n",
       "      <th></th>\n",
       "      <th>use</th>\n",
       "    </tr>\n",
       "  </thead>\n",
       "  <tbody>\n",
       "    <tr>\n",
       "      <th>count</th>\n",
       "      <td>3397.000000</td>\n",
       "    </tr>\n",
       "    <tr>\n",
       "      <th>mean</th>\n",
       "      <td>2.720636</td>\n",
       "    </tr>\n",
       "    <tr>\n",
       "      <th>std</th>\n",
       "      <td>1.416490</td>\n",
       "    </tr>\n",
       "    <tr>\n",
       "      <th>min</th>\n",
       "      <td>1.000000</td>\n",
       "    </tr>\n",
       "    <tr>\n",
       "      <th>25%</th>\n",
       "      <td>2.000000</td>\n",
       "    </tr>\n",
       "    <tr>\n",
       "      <th>50%</th>\n",
       "      <td>3.000000</td>\n",
       "    </tr>\n",
       "    <tr>\n",
       "      <th>75%</th>\n",
       "      <td>4.000000</td>\n",
       "    </tr>\n",
       "    <tr>\n",
       "      <th>max</th>\n",
       "      <td>8.000000</td>\n",
       "    </tr>\n",
       "  </tbody>\n",
       "</table>\n",
       "</div>"
      ],
      "text/plain": [
       "               use\n",
       "count  3397.000000\n",
       "mean      2.720636\n",
       "std       1.416490\n",
       "min       1.000000\n",
       "25%       2.000000\n",
       "50%       3.000000\n",
       "75%       4.000000\n",
       "max       8.000000"
      ]
     },
     "execution_count": 44,
     "metadata": {},
     "output_type": "execute_result"
    }
   ],
   "source": [
    "pitch_rank_full_season.describe()"
   ]
  },
  {
   "cell_type": "code",
   "execution_count": 45,
   "id": "de1bd85a",
   "metadata": {},
   "outputs": [],
   "source": [
    "pitch_rank_full_season['use'] = pitch_rank_full_season['use'].replace({1: 'first', 2: 'second', 3: 'third', 4: 'fourth', 5: 'fifth', 6: 'sixth', 7: 'seventh', 8: 'eighth'})"
   ]
  },
  {
   "cell_type": "code",
   "execution_count": 46,
   "id": "582a19b0",
   "metadata": {},
   "outputs": [
    {
     "data": {
      "text/html": [
       "<div>\n",
       "<style scoped>\n",
       "    .dataframe tbody tr th:only-of-type {\n",
       "        vertical-align: middle;\n",
       "    }\n",
       "\n",
       "    .dataframe tbody tr th {\n",
       "        vertical-align: top;\n",
       "    }\n",
       "\n",
       "    .dataframe thead th {\n",
       "        text-align: right;\n",
       "    }\n",
       "</style>\n",
       "<table border=\"1\" class=\"dataframe\">\n",
       "  <thead>\n",
       "    <tr style=\"text-align: right;\">\n",
       "      <th></th>\n",
       "      <th></th>\n",
       "      <th>use</th>\n",
       "    </tr>\n",
       "    <tr>\n",
       "      <th>player_name</th>\n",
       "      <th>pitch_type</th>\n",
       "      <th></th>\n",
       "    </tr>\n",
       "  </thead>\n",
       "  <tbody>\n",
       "    <tr>\n",
       "      <th rowspan=\"3\" valign=\"top\">Abbott, Cory</th>\n",
       "      <th>FF</th>\n",
       "      <td>first</td>\n",
       "    </tr>\n",
       "    <tr>\n",
       "      <th>KC</th>\n",
       "      <td>third</td>\n",
       "    </tr>\n",
       "    <tr>\n",
       "      <th>SL</th>\n",
       "      <td>second</td>\n",
       "    </tr>\n",
       "    <tr>\n",
       "      <th rowspan=\"2\" valign=\"top\">Abreu, Albert</th>\n",
       "      <th>CH</th>\n",
       "      <td>fourth</td>\n",
       "    </tr>\n",
       "    <tr>\n",
       "      <th>FF</th>\n",
       "      <td>third</td>\n",
       "    </tr>\n",
       "  </tbody>\n",
       "</table>\n",
       "</div>"
      ],
      "text/plain": [
       "                             use\n",
       "player_name   pitch_type        \n",
       "Abbott, Cory  FF           first\n",
       "              KC           third\n",
       "              SL          second\n",
       "Abreu, Albert CH          fourth\n",
       "              FF           third"
      ]
     },
     "execution_count": 46,
     "metadata": {},
     "output_type": "execute_result"
    }
   ],
   "source": [
    "pitch_rank_full_season.head()"
   ]
  },
  {
   "cell_type": "code",
   "execution_count": 47,
   "id": "fa0946bc",
   "metadata": {},
   "outputs": [],
   "source": [
    "num_pitches = pitch_use_full_season.groupby('player_name').size()"
   ]
  },
  {
   "cell_type": "code",
   "execution_count": 49,
   "id": "3dd6f580",
   "metadata": {},
   "outputs": [
    {
     "data": {
      "text/plain": [
       "player_name\n",
       "Culberson, Charlie    1\n",
       "Dozier, Hunter        1\n",
       "Escobar, Alcides      1\n",
       "Gonzalez, Marwin      1\n",
       "Gosselin, Phil        1\n",
       "Harrison, Josh        1\n",
       "Knizner, Andrew       1\n",
       "Lopez, Nicky          1\n",
       "Mayfield, Jack        1\n",
       "McGuire, Reese        1\n",
       "Merrifield, Whit      1\n",
       "Neuse, Sheldon        1\n",
       "Plawecki, Kevin       1\n",
       "Pujols, Albert        1\n",
       "Reynolds, Matt        1\n",
       "Simmons, Andrelton    1\n",
       "Torrens, Luis         1\n",
       "Wynns, Austin         1\n",
       "dtype: int64"
      ]
     },
     "execution_count": 49,
     "metadata": {},
     "output_type": "execute_result"
    }
   ],
   "source": [
    "num_pitches[num_pitches == 1]"
   ]
  },
  {
   "cell_type": "code",
   "execution_count": 50,
   "id": "d41c9ded",
   "metadata": {},
   "outputs": [],
   "source": [
    "two_or_more_pitches = num_pitches[num_pitches > 1]\n",
    "two_or_more_pitches = two_or_more_pitches.to_frame().rename(columns={0: 'num_pitches'})"
   ]
  },
  {
   "cell_type": "code",
   "execution_count": 51,
   "id": "e6626971",
   "metadata": {},
   "outputs": [
    {
     "data": {
      "text/html": [
       "<div>\n",
       "<style scoped>\n",
       "    .dataframe tbody tr th:only-of-type {\n",
       "        vertical-align: middle;\n",
       "    }\n",
       "\n",
       "    .dataframe tbody tr th {\n",
       "        vertical-align: top;\n",
       "    }\n",
       "\n",
       "    .dataframe thead th {\n",
       "        text-align: right;\n",
       "    }\n",
       "</style>\n",
       "<table border=\"1\" class=\"dataframe\">\n",
       "  <thead>\n",
       "    <tr style=\"text-align: right;\">\n",
       "      <th></th>\n",
       "      <th>num_pitches</th>\n",
       "    </tr>\n",
       "    <tr>\n",
       "      <th>player_name</th>\n",
       "      <th></th>\n",
       "    </tr>\n",
       "  </thead>\n",
       "  <tbody>\n",
       "    <tr>\n",
       "      <th>Abbott, Cory</th>\n",
       "      <td>3</td>\n",
       "    </tr>\n",
       "    <tr>\n",
       "      <th>Abreu, Albert</th>\n",
       "      <td>4</td>\n",
       "    </tr>\n",
       "    <tr>\n",
       "      <th>Abreu, Bryan</th>\n",
       "      <td>5</td>\n",
       "    </tr>\n",
       "    <tr>\n",
       "      <th>Acevedo, Domingo</th>\n",
       "      <td>4</td>\n",
       "    </tr>\n",
       "    <tr>\n",
       "      <th>Adam, Jason</th>\n",
       "      <td>3</td>\n",
       "    </tr>\n",
       "  </tbody>\n",
       "</table>\n",
       "</div>"
      ],
      "text/plain": [
       "                  num_pitches\n",
       "player_name                  \n",
       "Abbott, Cory                3\n",
       "Abreu, Albert               4\n",
       "Abreu, Bryan                5\n",
       "Acevedo, Domingo            4\n",
       "Adam, Jason                 3"
      ]
     },
     "execution_count": 51,
     "metadata": {},
     "output_type": "execute_result"
    }
   ],
   "source": [
    "two_or_more_pitches.head()"
   ]
  },
  {
   "cell_type": "code",
   "execution_count": 52,
   "id": "af1729bb",
   "metadata": {},
   "outputs": [
    {
     "data": {
      "text/plain": [
       "810"
      ]
     },
     "execution_count": 52,
     "metadata": {},
     "output_type": "execute_result"
    }
   ],
   "source": [
    "len(two_or_more_pitches.index)"
   ]
  },
  {
   "cell_type": "code",
   "execution_count": 53,
   "id": "6ebe5c02",
   "metadata": {},
   "outputs": [],
   "source": [
    "pitch_rank_full_season = pitch_rank_full_season.join(two_or_more_pitches, how='inner')"
   ]
  },
  {
   "cell_type": "code",
   "execution_count": 55,
   "id": "4c787db4",
   "metadata": {},
   "outputs": [],
   "source": [
    "pitch_rank_full_season = pitch_rank_full_season[['use']]"
   ]
  },
  {
   "cell_type": "code",
   "execution_count": 56,
   "id": "fef1b7a1",
   "metadata": {},
   "outputs": [
    {
     "data": {
      "text/html": [
       "<div>\n",
       "<style scoped>\n",
       "    .dataframe tbody tr th:only-of-type {\n",
       "        vertical-align: middle;\n",
       "    }\n",
       "\n",
       "    .dataframe tbody tr th {\n",
       "        vertical-align: top;\n",
       "    }\n",
       "\n",
       "    .dataframe thead th {\n",
       "        text-align: right;\n",
       "    }\n",
       "</style>\n",
       "<table border=\"1\" class=\"dataframe\">\n",
       "  <thead>\n",
       "    <tr style=\"text-align: right;\">\n",
       "      <th></th>\n",
       "      <th></th>\n",
       "      <th>use</th>\n",
       "    </tr>\n",
       "    <tr>\n",
       "      <th>player_name</th>\n",
       "      <th>pitch_type</th>\n",
       "      <th></th>\n",
       "    </tr>\n",
       "  </thead>\n",
       "  <tbody>\n",
       "    <tr>\n",
       "      <th rowspan=\"3\" valign=\"top\">Abbott, Cory</th>\n",
       "      <th>FF</th>\n",
       "      <td>first</td>\n",
       "    </tr>\n",
       "    <tr>\n",
       "      <th>KC</th>\n",
       "      <td>third</td>\n",
       "    </tr>\n",
       "    <tr>\n",
       "      <th>SL</th>\n",
       "      <td>second</td>\n",
       "    </tr>\n",
       "    <tr>\n",
       "      <th rowspan=\"2\" valign=\"top\">Abreu, Albert</th>\n",
       "      <th>CH</th>\n",
       "      <td>fourth</td>\n",
       "    </tr>\n",
       "    <tr>\n",
       "      <th>FF</th>\n",
       "      <td>third</td>\n",
       "    </tr>\n",
       "  </tbody>\n",
       "</table>\n",
       "</div>"
      ],
      "text/plain": [
       "                             use\n",
       "player_name   pitch_type        \n",
       "Abbott, Cory  FF           first\n",
       "              KC           third\n",
       "              SL          second\n",
       "Abreu, Albert CH          fourth\n",
       "              FF           third"
      ]
     },
     "execution_count": 56,
     "metadata": {},
     "output_type": "execute_result"
    }
   ],
   "source": [
    "pitch_rank_full_season.head()"
   ]
  },
  {
   "cell_type": "code",
   "execution_count": 57,
   "id": "78b67a13",
   "metadata": {},
   "outputs": [
    {
     "data": {
      "text/plain": [
       "3379"
      ]
     },
     "execution_count": 57,
     "metadata": {},
     "output_type": "execute_result"
    }
   ],
   "source": [
    "len(pitch_rank_full_season.index)"
   ]
  },
  {
   "cell_type": "code",
   "execution_count": 58,
   "id": "2c1b5581",
   "metadata": {},
   "outputs": [],
   "source": [
    "pitch_use_full_season = pitch_use_full_season.join(pitch_rank_full_season, how='inner')"
   ]
  },
  {
   "cell_type": "code",
   "execution_count": 59,
   "id": "fbab752b",
   "metadata": {},
   "outputs": [
    {
     "data": {
      "text/html": [
       "<div>\n",
       "<style scoped>\n",
       "    .dataframe tbody tr th:only-of-type {\n",
       "        vertical-align: middle;\n",
       "    }\n",
       "\n",
       "    .dataframe tbody tr th {\n",
       "        vertical-align: top;\n",
       "    }\n",
       "\n",
       "    .dataframe thead th {\n",
       "        text-align: right;\n",
       "    }\n",
       "</style>\n",
       "<table border=\"1\" class=\"dataframe\">\n",
       "  <thead>\n",
       "    <tr style=\"text-align: right;\">\n",
       "      <th></th>\n",
       "      <th></th>\n",
       "      <th>pct</th>\n",
       "      <th>use</th>\n",
       "    </tr>\n",
       "    <tr>\n",
       "      <th>player_name</th>\n",
       "      <th>pitch_type</th>\n",
       "      <th></th>\n",
       "      <th></th>\n",
       "    </tr>\n",
       "  </thead>\n",
       "  <tbody>\n",
       "    <tr>\n",
       "      <th rowspan=\"3\" valign=\"top\">Abbott, Cory</th>\n",
       "      <th>FF</th>\n",
       "      <td>0.509</td>\n",
       "      <td>first</td>\n",
       "    </tr>\n",
       "    <tr>\n",
       "      <th>KC</th>\n",
       "      <td>0.222</td>\n",
       "      <td>third</td>\n",
       "    </tr>\n",
       "    <tr>\n",
       "      <th>SL</th>\n",
       "      <td>0.269</td>\n",
       "      <td>second</td>\n",
       "    </tr>\n",
       "    <tr>\n",
       "      <th rowspan=\"2\" valign=\"top\">Abreu, Albert</th>\n",
       "      <th>CH</th>\n",
       "      <td>0.100</td>\n",
       "      <td>fourth</td>\n",
       "    </tr>\n",
       "    <tr>\n",
       "      <th>FF</th>\n",
       "      <td>0.119</td>\n",
       "      <td>third</td>\n",
       "    </tr>\n",
       "  </tbody>\n",
       "</table>\n",
       "</div>"
      ],
      "text/plain": [
       "                            pct     use\n",
       "player_name   pitch_type               \n",
       "Abbott, Cory  FF          0.509   first\n",
       "              KC          0.222   third\n",
       "              SL          0.269  second\n",
       "Abreu, Albert CH          0.100  fourth\n",
       "              FF          0.119   third"
      ]
     },
     "execution_count": 59,
     "metadata": {},
     "output_type": "execute_result"
    }
   ],
   "source": [
    "pitch_use_full_season.head()"
   ]
  },
  {
   "cell_type": "markdown",
   "id": "a44493a6",
   "metadata": {},
   "source": [
    "## Pitch Use by Appearance"
   ]
  },
  {
   "cell_type": "code",
   "execution_count": 60,
   "id": "7705771d",
   "metadata": {},
   "outputs": [],
   "source": [
    "pitch_use_appearance = pitches.groupby(['player_name', 'game_pk'])[['CH', 'CU', 'FC', 'FF', 'FS', 'KC', 'SI', 'SL', 'ST', 'SV']].agg({'CH': 'mean', 'CU': 'mean', 'FC': 'mean', 'FF': 'mean', 'FS': 'mean', 'KC': 'mean', 'SI': 'mean', 'SL': 'mean', 'ST': 'mean', 'SV': 'mean'})\n",
    "pitch_use_appearance = pitch_use_appearance.round({'CH': 3, 'CU': 3, 'FC': 3, 'FF': 3, 'FS': 3, 'KC': 3, 'SI': 3, 'SL': 3, 'ST': 3, 'SV': 3})"
   ]
  },
  {
   "cell_type": "code",
   "execution_count": 61,
   "id": "815f9780",
   "metadata": {},
   "outputs": [
    {
     "data": {
      "text/html": [
       "<div>\n",
       "<style scoped>\n",
       "    .dataframe tbody tr th:only-of-type {\n",
       "        vertical-align: middle;\n",
       "    }\n",
       "\n",
       "    .dataframe tbody tr th {\n",
       "        vertical-align: top;\n",
       "    }\n",
       "\n",
       "    .dataframe thead th {\n",
       "        text-align: right;\n",
       "    }\n",
       "</style>\n",
       "<table border=\"1\" class=\"dataframe\">\n",
       "  <thead>\n",
       "    <tr style=\"text-align: right;\">\n",
       "      <th></th>\n",
       "      <th></th>\n",
       "      <th>CH</th>\n",
       "      <th>CU</th>\n",
       "      <th>FC</th>\n",
       "      <th>FF</th>\n",
       "      <th>FS</th>\n",
       "      <th>KC</th>\n",
       "      <th>SI</th>\n",
       "      <th>SL</th>\n",
       "      <th>ST</th>\n",
       "      <th>SV</th>\n",
       "    </tr>\n",
       "    <tr>\n",
       "      <th>player_name</th>\n",
       "      <th>game_pk</th>\n",
       "      <th></th>\n",
       "      <th></th>\n",
       "      <th></th>\n",
       "      <th></th>\n",
       "      <th></th>\n",
       "      <th></th>\n",
       "      <th></th>\n",
       "      <th></th>\n",
       "      <th></th>\n",
       "      <th></th>\n",
       "    </tr>\n",
       "  </thead>\n",
       "  <tbody>\n",
       "    <tr>\n",
       "      <th rowspan=\"5\" valign=\"top\">Abbott, Cory</th>\n",
       "      <th>661094</th>\n",
       "      <td>0.0</td>\n",
       "      <td>0.0</td>\n",
       "      <td>0.0</td>\n",
       "      <td>0.636</td>\n",
       "      <td>0.0</td>\n",
       "      <td>0.170</td>\n",
       "      <td>0.0</td>\n",
       "      <td>0.193</td>\n",
       "      <td>0.0</td>\n",
       "      <td>0.0</td>\n",
       "    </tr>\n",
       "    <tr>\n",
       "      <th>661470</th>\n",
       "      <td>0.0</td>\n",
       "      <td>0.0</td>\n",
       "      <td>0.0</td>\n",
       "      <td>0.377</td>\n",
       "      <td>0.0</td>\n",
       "      <td>0.188</td>\n",
       "      <td>0.0</td>\n",
       "      <td>0.435</td>\n",
       "      <td>0.0</td>\n",
       "      <td>0.0</td>\n",
       "    </tr>\n",
       "    <tr>\n",
       "      <th>661558</th>\n",
       "      <td>0.0</td>\n",
       "      <td>0.0</td>\n",
       "      <td>0.0</td>\n",
       "      <td>0.494</td>\n",
       "      <td>0.0</td>\n",
       "      <td>0.228</td>\n",
       "      <td>0.0</td>\n",
       "      <td>0.278</td>\n",
       "      <td>0.0</td>\n",
       "      <td>0.0</td>\n",
       "    </tr>\n",
       "    <tr>\n",
       "      <th>661593</th>\n",
       "      <td>0.0</td>\n",
       "      <td>0.0</td>\n",
       "      <td>0.0</td>\n",
       "      <td>0.500</td>\n",
       "      <td>0.0</td>\n",
       "      <td>0.125</td>\n",
       "      <td>0.0</td>\n",
       "      <td>0.375</td>\n",
       "      <td>0.0</td>\n",
       "      <td>0.0</td>\n",
       "    </tr>\n",
       "    <tr>\n",
       "      <th>661924</th>\n",
       "      <td>0.0</td>\n",
       "      <td>0.0</td>\n",
       "      <td>0.0</td>\n",
       "      <td>0.466</td>\n",
       "      <td>0.0</td>\n",
       "      <td>0.409</td>\n",
       "      <td>0.0</td>\n",
       "      <td>0.125</td>\n",
       "      <td>0.0</td>\n",
       "      <td>0.0</td>\n",
       "    </tr>\n",
       "  </tbody>\n",
       "</table>\n",
       "</div>"
      ],
      "text/plain": [
       "                       CH   CU   FC     FF   FS     KC   SI     SL   ST   SV\n",
       "player_name  game_pk                                                        \n",
       "Abbott, Cory 661094   0.0  0.0  0.0  0.636  0.0  0.170  0.0  0.193  0.0  0.0\n",
       "             661470   0.0  0.0  0.0  0.377  0.0  0.188  0.0  0.435  0.0  0.0\n",
       "             661558   0.0  0.0  0.0  0.494  0.0  0.228  0.0  0.278  0.0  0.0\n",
       "             661593   0.0  0.0  0.0  0.500  0.0  0.125  0.0  0.375  0.0  0.0\n",
       "             661924   0.0  0.0  0.0  0.466  0.0  0.409  0.0  0.125  0.0  0.0"
      ]
     },
     "execution_count": 61,
     "metadata": {},
     "output_type": "execute_result"
    }
   ],
   "source": [
    "pitch_use_appearance.head()"
   ]
  },
  {
   "cell_type": "code",
   "execution_count": 62,
   "id": "cda67bb4",
   "metadata": {},
   "outputs": [],
   "source": [
    "pitch_use_appearance = pitch_use_appearance.stack()\n",
    "pitch_use_appearance = pitch_use_appearance.to_frame().rename(columns={0: 'pct'})\n",
    "pitch_use_appearance = pitch_use_appearance.rename_axis(['player_name', 'game_pk', 'pitch_type'])"
   ]
  },
  {
   "cell_type": "code",
   "execution_count": 63,
   "id": "23b6ae87",
   "metadata": {},
   "outputs": [
    {
     "data": {
      "text/html": [
       "<div>\n",
       "<style scoped>\n",
       "    .dataframe tbody tr th:only-of-type {\n",
       "        vertical-align: middle;\n",
       "    }\n",
       "\n",
       "    .dataframe tbody tr th {\n",
       "        vertical-align: top;\n",
       "    }\n",
       "\n",
       "    .dataframe thead th {\n",
       "        text-align: right;\n",
       "    }\n",
       "</style>\n",
       "<table border=\"1\" class=\"dataframe\">\n",
       "  <thead>\n",
       "    <tr style=\"text-align: right;\">\n",
       "      <th></th>\n",
       "      <th></th>\n",
       "      <th></th>\n",
       "      <th>pct</th>\n",
       "    </tr>\n",
       "    <tr>\n",
       "      <th>player_name</th>\n",
       "      <th>game_pk</th>\n",
       "      <th>pitch_type</th>\n",
       "      <th></th>\n",
       "    </tr>\n",
       "  </thead>\n",
       "  <tbody>\n",
       "    <tr>\n",
       "      <th rowspan=\"5\" valign=\"top\">Abbott, Cory</th>\n",
       "      <th rowspan=\"5\" valign=\"top\">661094</th>\n",
       "      <th>CH</th>\n",
       "      <td>0.000</td>\n",
       "    </tr>\n",
       "    <tr>\n",
       "      <th>CU</th>\n",
       "      <td>0.000</td>\n",
       "    </tr>\n",
       "    <tr>\n",
       "      <th>FC</th>\n",
       "      <td>0.000</td>\n",
       "    </tr>\n",
       "    <tr>\n",
       "      <th>FF</th>\n",
       "      <td>0.636</td>\n",
       "    </tr>\n",
       "    <tr>\n",
       "      <th>FS</th>\n",
       "      <td>0.000</td>\n",
       "    </tr>\n",
       "  </tbody>\n",
       "</table>\n",
       "</div>"
      ],
      "text/plain": [
       "                                   pct\n",
       "player_name  game_pk pitch_type       \n",
       "Abbott, Cory 661094  CH          0.000\n",
       "                     CU          0.000\n",
       "                     FC          0.000\n",
       "                     FF          0.636\n",
       "                     FS          0.000"
      ]
     },
     "execution_count": 63,
     "metadata": {},
     "output_type": "execute_result"
    }
   ],
   "source": [
    "pitch_use_appearance.head()"
   ]
  },
  {
   "cell_type": "code",
   "execution_count": 64,
   "id": "4c7566ec",
   "metadata": {},
   "outputs": [],
   "source": [
    "pitch_use_appearance = pitch_use_appearance[pitch_use_appearance['pct'] > 0]"
   ]
  },
  {
   "cell_type": "code",
   "execution_count": 66,
   "id": "f6c954f7",
   "metadata": {},
   "outputs": [],
   "source": [
    "pitch_count_appearance = pitches.groupby(['player_name', 'game_pk']).size()\n",
    "pitch_count_appearance = pitch_count_appearance.to_frame().rename(columns={0: 'pitch_count'})"
   ]
  },
  {
   "cell_type": "code",
   "execution_count": 67,
   "id": "5cb56b4e",
   "metadata": {},
   "outputs": [
    {
     "data": {
      "text/html": [
       "<div>\n",
       "<style scoped>\n",
       "    .dataframe tbody tr th:only-of-type {\n",
       "        vertical-align: middle;\n",
       "    }\n",
       "\n",
       "    .dataframe tbody tr th {\n",
       "        vertical-align: top;\n",
       "    }\n",
       "\n",
       "    .dataframe thead th {\n",
       "        text-align: right;\n",
       "    }\n",
       "</style>\n",
       "<table border=\"1\" class=\"dataframe\">\n",
       "  <thead>\n",
       "    <tr style=\"text-align: right;\">\n",
       "      <th></th>\n",
       "      <th></th>\n",
       "      <th>pitch_count</th>\n",
       "    </tr>\n",
       "    <tr>\n",
       "      <th>player_name</th>\n",
       "      <th>game_pk</th>\n",
       "      <th></th>\n",
       "    </tr>\n",
       "  </thead>\n",
       "  <tbody>\n",
       "    <tr>\n",
       "      <th rowspan=\"5\" valign=\"top\">Abbott, Cory</th>\n",
       "      <th>661094</th>\n",
       "      <td>88</td>\n",
       "    </tr>\n",
       "    <tr>\n",
       "      <th>661470</th>\n",
       "      <td>69</td>\n",
       "    </tr>\n",
       "    <tr>\n",
       "      <th>661558</th>\n",
       "      <td>79</td>\n",
       "    </tr>\n",
       "    <tr>\n",
       "      <th>661593</th>\n",
       "      <td>8</td>\n",
       "    </tr>\n",
       "    <tr>\n",
       "      <th>661924</th>\n",
       "      <td>88</td>\n",
       "    </tr>\n",
       "  </tbody>\n",
       "</table>\n",
       "</div>"
      ],
      "text/plain": [
       "                      pitch_count\n",
       "player_name  game_pk             \n",
       "Abbott, Cory 661094            88\n",
       "             661470            69\n",
       "             661558            79\n",
       "             661593             8\n",
       "             661924            88"
      ]
     },
     "execution_count": 67,
     "metadata": {},
     "output_type": "execute_result"
    }
   ],
   "source": [
    "pitch_count_appearance.head()"
   ]
  },
  {
   "cell_type": "code",
   "execution_count": 68,
   "id": "74b72c5d",
   "metadata": {},
   "outputs": [],
   "source": [
    "pitch_count_quartiles = pitch_count_appearance.groupby('player_name').quantile(q=[i / 4 for i in range(1, 5)], interpolation='linear')\n",
    "pitch_count_quartiles = pitch_count_quartiles.rename_axis(['player_name', 'quartile'])"
   ]
  },
  {
   "cell_type": "code",
   "execution_count": 69,
   "id": "0fbff8b8",
   "metadata": {},
   "outputs": [
    {
     "data": {
      "text/html": [
       "<div>\n",
       "<style scoped>\n",
       "    .dataframe tbody tr th:only-of-type {\n",
       "        vertical-align: middle;\n",
       "    }\n",
       "\n",
       "    .dataframe tbody tr th {\n",
       "        vertical-align: top;\n",
       "    }\n",
       "\n",
       "    .dataframe thead th {\n",
       "        text-align: right;\n",
       "    }\n",
       "</style>\n",
       "<table border=\"1\" class=\"dataframe\">\n",
       "  <thead>\n",
       "    <tr style=\"text-align: right;\">\n",
       "      <th></th>\n",
       "      <th></th>\n",
       "      <th>pitch_count</th>\n",
       "    </tr>\n",
       "    <tr>\n",
       "      <th>player_name</th>\n",
       "      <th>quartile</th>\n",
       "      <th></th>\n",
       "    </tr>\n",
       "  </thead>\n",
       "  <tbody>\n",
       "    <tr>\n",
       "      <th rowspan=\"4\" valign=\"top\">Abbott, Cory</th>\n",
       "      <th>0.25</th>\n",
       "      <td>18.5</td>\n",
       "    </tr>\n",
       "    <tr>\n",
       "      <th>0.50</th>\n",
       "      <td>70.5</td>\n",
       "    </tr>\n",
       "    <tr>\n",
       "      <th>0.75</th>\n",
       "      <td>83.0</td>\n",
       "    </tr>\n",
       "    <tr>\n",
       "      <th>1.00</th>\n",
       "      <td>90.0</td>\n",
       "    </tr>\n",
       "    <tr>\n",
       "      <th>Abreu, Albert</th>\n",
       "      <th>0.25</th>\n",
       "      <td>15.0</td>\n",
       "    </tr>\n",
       "  </tbody>\n",
       "</table>\n",
       "</div>"
      ],
      "text/plain": [
       "                        pitch_count\n",
       "player_name   quartile             \n",
       "Abbott, Cory  0.25             18.5\n",
       "              0.50             70.5\n",
       "              0.75             83.0\n",
       "              1.00             90.0\n",
       "Abreu, Albert 0.25             15.0"
      ]
     },
     "execution_count": 69,
     "metadata": {},
     "output_type": "execute_result"
    }
   ],
   "source": [
    "pitch_count_quartiles.head()"
   ]
  },
  {
   "cell_type": "code",
   "execution_count": 70,
   "id": "6d809765",
   "metadata": {},
   "outputs": [],
   "source": [
    "pitch_count_first_quartile = pitch_count_quartiles.xs(0.25, level=1)\n",
    "pitch_count_first_quartile = pitch_count_first_quartile.rename(columns={'pitch_count': 'first_quartile'})\n",
    "\n",
    "pitch_count_third_quartile = pitch_count_quartiles.xs(0.75, level=1)\n",
    "pitch_count_third_quartile = pitch_count_third_quartile.rename(columns={'pitch_count': 'third_quartile'})"
   ]
  },
  {
   "cell_type": "code",
   "execution_count": 73,
   "id": "3a4be4fc",
   "metadata": {},
   "outputs": [],
   "source": [
    "pitch_count_appearance = pitch_count_appearance.join(pitch_count_first_quartile, how='inner')"
   ]
  },
  {
   "cell_type": "code",
   "execution_count": 74,
   "id": "17b18ce7",
   "metadata": {},
   "outputs": [],
   "source": [
    "pitch_count_appearance = pitch_count_appearance.join(pitch_count_third_quartile, how='inner')"
   ]
  },
  {
   "cell_type": "code",
   "execution_count": 75,
   "id": "abbe9abc",
   "metadata": {},
   "outputs": [
    {
     "data": {
      "text/html": [
       "<div>\n",
       "<style scoped>\n",
       "    .dataframe tbody tr th:only-of-type {\n",
       "        vertical-align: middle;\n",
       "    }\n",
       "\n",
       "    .dataframe tbody tr th {\n",
       "        vertical-align: top;\n",
       "    }\n",
       "\n",
       "    .dataframe thead th {\n",
       "        text-align: right;\n",
       "    }\n",
       "</style>\n",
       "<table border=\"1\" class=\"dataframe\">\n",
       "  <thead>\n",
       "    <tr style=\"text-align: right;\">\n",
       "      <th></th>\n",
       "      <th></th>\n",
       "      <th>pitch_count</th>\n",
       "      <th>first_quartile</th>\n",
       "      <th>third_quartile</th>\n",
       "    </tr>\n",
       "    <tr>\n",
       "      <th>player_name</th>\n",
       "      <th>game_pk</th>\n",
       "      <th></th>\n",
       "      <th></th>\n",
       "      <th></th>\n",
       "    </tr>\n",
       "  </thead>\n",
       "  <tbody>\n",
       "    <tr>\n",
       "      <th rowspan=\"5\" valign=\"top\">Abbott, Cory</th>\n",
       "      <th>661094</th>\n",
       "      <td>88</td>\n",
       "      <td>18.5</td>\n",
       "      <td>83.0</td>\n",
       "    </tr>\n",
       "    <tr>\n",
       "      <th>661470</th>\n",
       "      <td>69</td>\n",
       "      <td>18.5</td>\n",
       "      <td>83.0</td>\n",
       "    </tr>\n",
       "    <tr>\n",
       "      <th>661558</th>\n",
       "      <td>79</td>\n",
       "      <td>18.5</td>\n",
       "      <td>83.0</td>\n",
       "    </tr>\n",
       "    <tr>\n",
       "      <th>661593</th>\n",
       "      <td>8</td>\n",
       "      <td>18.5</td>\n",
       "      <td>83.0</td>\n",
       "    </tr>\n",
       "    <tr>\n",
       "      <th>661924</th>\n",
       "      <td>88</td>\n",
       "      <td>18.5</td>\n",
       "      <td>83.0</td>\n",
       "    </tr>\n",
       "  </tbody>\n",
       "</table>\n",
       "</div>"
      ],
      "text/plain": [
       "                      pitch_count  first_quartile  third_quartile\n",
       "player_name  game_pk                                             \n",
       "Abbott, Cory 661094            88            18.5            83.0\n",
       "             661470            69            18.5            83.0\n",
       "             661558            79            18.5            83.0\n",
       "             661593             8            18.5            83.0\n",
       "             661924            88            18.5            83.0"
      ]
     },
     "execution_count": 75,
     "metadata": {},
     "output_type": "execute_result"
    }
   ],
   "source": [
    "pitch_count_appearance.head()"
   ]
  },
  {
   "cell_type": "code",
   "execution_count": 76,
   "id": "afb24f3d",
   "metadata": {},
   "outputs": [],
   "source": [
    "pitch_count_appearance['interquartile_range'] = pitch_count_appearance['third_quartile'] - pitch_count_appearance['first_quartile']"
   ]
  },
  {
   "cell_type": "code",
   "execution_count": 77,
   "id": "4539abcf",
   "metadata": {},
   "outputs": [
    {
     "data": {
      "text/html": [
       "<div>\n",
       "<style scoped>\n",
       "    .dataframe tbody tr th:only-of-type {\n",
       "        vertical-align: middle;\n",
       "    }\n",
       "\n",
       "    .dataframe tbody tr th {\n",
       "        vertical-align: top;\n",
       "    }\n",
       "\n",
       "    .dataframe thead th {\n",
       "        text-align: right;\n",
       "    }\n",
       "</style>\n",
       "<table border=\"1\" class=\"dataframe\">\n",
       "  <thead>\n",
       "    <tr style=\"text-align: right;\">\n",
       "      <th></th>\n",
       "      <th></th>\n",
       "      <th>pitch_count</th>\n",
       "      <th>first_quartile</th>\n",
       "      <th>third_quartile</th>\n",
       "      <th>interquartile_range</th>\n",
       "    </tr>\n",
       "    <tr>\n",
       "      <th>player_name</th>\n",
       "      <th>game_pk</th>\n",
       "      <th></th>\n",
       "      <th></th>\n",
       "      <th></th>\n",
       "      <th></th>\n",
       "    </tr>\n",
       "  </thead>\n",
       "  <tbody>\n",
       "    <tr>\n",
       "      <th rowspan=\"5\" valign=\"top\">Abbott, Cory</th>\n",
       "      <th>661094</th>\n",
       "      <td>88</td>\n",
       "      <td>18.5</td>\n",
       "      <td>83.0</td>\n",
       "      <td>64.5</td>\n",
       "    </tr>\n",
       "    <tr>\n",
       "      <th>661470</th>\n",
       "      <td>69</td>\n",
       "      <td>18.5</td>\n",
       "      <td>83.0</td>\n",
       "      <td>64.5</td>\n",
       "    </tr>\n",
       "    <tr>\n",
       "      <th>661558</th>\n",
       "      <td>79</td>\n",
       "      <td>18.5</td>\n",
       "      <td>83.0</td>\n",
       "      <td>64.5</td>\n",
       "    </tr>\n",
       "    <tr>\n",
       "      <th>661593</th>\n",
       "      <td>8</td>\n",
       "      <td>18.5</td>\n",
       "      <td>83.0</td>\n",
       "      <td>64.5</td>\n",
       "    </tr>\n",
       "    <tr>\n",
       "      <th>661924</th>\n",
       "      <td>88</td>\n",
       "      <td>18.5</td>\n",
       "      <td>83.0</td>\n",
       "      <td>64.5</td>\n",
       "    </tr>\n",
       "  </tbody>\n",
       "</table>\n",
       "</div>"
      ],
      "text/plain": [
       "                      pitch_count  first_quartile  third_quartile  \\\n",
       "player_name  game_pk                                                \n",
       "Abbott, Cory 661094            88            18.5            83.0   \n",
       "             661470            69            18.5            83.0   \n",
       "             661558            79            18.5            83.0   \n",
       "             661593             8            18.5            83.0   \n",
       "             661924            88            18.5            83.0   \n",
       "\n",
       "                      interquartile_range  \n",
       "player_name  game_pk                       \n",
       "Abbott, Cory 661094                  64.5  \n",
       "             661470                  64.5  \n",
       "             661558                  64.5  \n",
       "             661593                  64.5  \n",
       "             661924                  64.5  "
      ]
     },
     "execution_count": 77,
     "metadata": {},
     "output_type": "execute_result"
    }
   ],
   "source": [
    "pitch_count_appearance.head()"
   ]
  },
  {
   "cell_type": "code",
   "execution_count": 78,
   "id": "0c3b5e12",
   "metadata": {},
   "outputs": [],
   "source": [
    "pitch_count_appearance['lower_outlier'] = pitch_count_appearance['pitch_count'] <= pitch_count_appearance['first_quartile'] - 1.5 * pitch_count_appearance['interquartile_range']\n",
    "pitch_count_appearance['lower_outlier'] = pitch_count_appearance['lower_outlier'].replace({True: 1, False: 0})\n",
    "\n",
    "pitch_count_appearance['higher_outlier'] = pitch_count_appearance['pitch_count'] >= pitch_count_appearance['third_quartile'] + 1.5 * pitch_count_appearance['interquartile_range']\n",
    "pitch_count_appearance['higher_outlier'] = pitch_count_appearance['higher_outlier'].replace({True: 1, False: 0})"
   ]
  },
  {
   "cell_type": "code",
   "execution_count": 79,
   "id": "0294f8af",
   "metadata": {},
   "outputs": [
    {
     "data": {
      "text/html": [
       "<div>\n",
       "<style scoped>\n",
       "    .dataframe tbody tr th:only-of-type {\n",
       "        vertical-align: middle;\n",
       "    }\n",
       "\n",
       "    .dataframe tbody tr th {\n",
       "        vertical-align: top;\n",
       "    }\n",
       "\n",
       "    .dataframe thead th {\n",
       "        text-align: right;\n",
       "    }\n",
       "</style>\n",
       "<table border=\"1\" class=\"dataframe\">\n",
       "  <thead>\n",
       "    <tr style=\"text-align: right;\">\n",
       "      <th></th>\n",
       "      <th></th>\n",
       "      <th>pitch_count</th>\n",
       "      <th>first_quartile</th>\n",
       "      <th>third_quartile</th>\n",
       "      <th>interquartile_range</th>\n",
       "      <th>lower_outlier</th>\n",
       "      <th>higher_outlier</th>\n",
       "    </tr>\n",
       "    <tr>\n",
       "      <th>player_name</th>\n",
       "      <th>game_pk</th>\n",
       "      <th></th>\n",
       "      <th></th>\n",
       "      <th></th>\n",
       "      <th></th>\n",
       "      <th></th>\n",
       "      <th></th>\n",
       "    </tr>\n",
       "  </thead>\n",
       "  <tbody>\n",
       "    <tr>\n",
       "      <th rowspan=\"5\" valign=\"top\">Abbott, Cory</th>\n",
       "      <th>661094</th>\n",
       "      <td>88</td>\n",
       "      <td>18.5</td>\n",
       "      <td>83.0</td>\n",
       "      <td>64.5</td>\n",
       "      <td>0</td>\n",
       "      <td>0</td>\n",
       "    </tr>\n",
       "    <tr>\n",
       "      <th>661470</th>\n",
       "      <td>69</td>\n",
       "      <td>18.5</td>\n",
       "      <td>83.0</td>\n",
       "      <td>64.5</td>\n",
       "      <td>0</td>\n",
       "      <td>0</td>\n",
       "    </tr>\n",
       "    <tr>\n",
       "      <th>661558</th>\n",
       "      <td>79</td>\n",
       "      <td>18.5</td>\n",
       "      <td>83.0</td>\n",
       "      <td>64.5</td>\n",
       "      <td>0</td>\n",
       "      <td>0</td>\n",
       "    </tr>\n",
       "    <tr>\n",
       "      <th>661593</th>\n",
       "      <td>8</td>\n",
       "      <td>18.5</td>\n",
       "      <td>83.0</td>\n",
       "      <td>64.5</td>\n",
       "      <td>0</td>\n",
       "      <td>0</td>\n",
       "    </tr>\n",
       "    <tr>\n",
       "      <th>661924</th>\n",
       "      <td>88</td>\n",
       "      <td>18.5</td>\n",
       "      <td>83.0</td>\n",
       "      <td>64.5</td>\n",
       "      <td>0</td>\n",
       "      <td>0</td>\n",
       "    </tr>\n",
       "  </tbody>\n",
       "</table>\n",
       "</div>"
      ],
      "text/plain": [
       "                      pitch_count  first_quartile  third_quartile  \\\n",
       "player_name  game_pk                                                \n",
       "Abbott, Cory 661094            88            18.5            83.0   \n",
       "             661470            69            18.5            83.0   \n",
       "             661558            79            18.5            83.0   \n",
       "             661593             8            18.5            83.0   \n",
       "             661924            88            18.5            83.0   \n",
       "\n",
       "                      interquartile_range  lower_outlier  higher_outlier  \n",
       "player_name  game_pk                                                      \n",
       "Abbott, Cory 661094                  64.5              0               0  \n",
       "             661470                  64.5              0               0  \n",
       "             661558                  64.5              0               0  \n",
       "             661593                  64.5              0               0  \n",
       "             661924                  64.5              0               0  "
      ]
     },
     "execution_count": 79,
     "metadata": {},
     "output_type": "execute_result"
    }
   ],
   "source": [
    "pitch_count_appearance.head()"
   ]
  },
  {
   "cell_type": "code",
   "execution_count": 80,
   "id": "eb6d6076",
   "metadata": {},
   "outputs": [],
   "source": [
    "pitch_count_appearance['outlier'] = pitch_count_appearance['lower_outlier'] + pitch_count_appearance['higher_outlier']"
   ]
  },
  {
   "cell_type": "code",
   "execution_count": 81,
   "id": "cf890162",
   "metadata": {},
   "outputs": [],
   "source": [
    "pitch_count_appearance = pitch_count_appearance[['pitch_count', 'outlier']]"
   ]
  },
  {
   "cell_type": "code",
   "execution_count": 82,
   "id": "4b77caeb",
   "metadata": {},
   "outputs": [],
   "source": [
    "pitch_use_appearance = pitch_use_appearance.join(pitch_count_appearance, how='inner')"
   ]
  },
  {
   "cell_type": "code",
   "execution_count": 83,
   "id": "30685e99",
   "metadata": {},
   "outputs": [
    {
     "data": {
      "text/html": [
       "<div>\n",
       "<style scoped>\n",
       "    .dataframe tbody tr th:only-of-type {\n",
       "        vertical-align: middle;\n",
       "    }\n",
       "\n",
       "    .dataframe tbody tr th {\n",
       "        vertical-align: top;\n",
       "    }\n",
       "\n",
       "    .dataframe thead th {\n",
       "        text-align: right;\n",
       "    }\n",
       "</style>\n",
       "<table border=\"1\" class=\"dataframe\">\n",
       "  <thead>\n",
       "    <tr style=\"text-align: right;\">\n",
       "      <th></th>\n",
       "      <th></th>\n",
       "      <th>pitch_count</th>\n",
       "      <th>outlier</th>\n",
       "    </tr>\n",
       "    <tr>\n",
       "      <th>player_name</th>\n",
       "      <th>game_pk</th>\n",
       "      <th></th>\n",
       "      <th></th>\n",
       "    </tr>\n",
       "  </thead>\n",
       "  <tbody>\n",
       "    <tr>\n",
       "      <th rowspan=\"2\" valign=\"top\">Adams, Austin</th>\n",
       "      <th>662104</th>\n",
       "      <td>24</td>\n",
       "      <td>2</td>\n",
       "    </tr>\n",
       "    <tr>\n",
       "      <th>663395</th>\n",
       "      <td>24</td>\n",
       "      <td>2</td>\n",
       "    </tr>\n",
       "    <tr>\n",
       "      <th>Alldred, Cam</th>\n",
       "      <th>662372</th>\n",
       "      <td>16</td>\n",
       "      <td>2</td>\n",
       "    </tr>\n",
       "    <tr>\n",
       "      <th>Alvarez, R.J.</th>\n",
       "      <th>661495</th>\n",
       "      <td>51</td>\n",
       "      <td>2</td>\n",
       "    </tr>\n",
       "    <tr>\n",
       "      <th>Anderson, Shaun</th>\n",
       "      <th>661740</th>\n",
       "      <td>21</td>\n",
       "      <td>2</td>\n",
       "    </tr>\n",
       "    <tr>\n",
       "      <th>...</th>\n",
       "      <th>...</th>\n",
       "      <td>...</td>\n",
       "      <td>...</td>\n",
       "    </tr>\n",
       "    <tr>\n",
       "      <th>Torrens, Luis</th>\n",
       "      <th>662200</th>\n",
       "      <td>1</td>\n",
       "      <td>2</td>\n",
       "    </tr>\n",
       "    <tr>\n",
       "      <th>Valdez, César</th>\n",
       "      <th>661126</th>\n",
       "      <td>16</td>\n",
       "      <td>2</td>\n",
       "    </tr>\n",
       "    <tr>\n",
       "      <th>Walters, Nash</th>\n",
       "      <th>662421</th>\n",
       "      <td>16</td>\n",
       "      <td>2</td>\n",
       "    </tr>\n",
       "    <tr>\n",
       "      <th>Weathers, Ryan</th>\n",
       "      <th>663155</th>\n",
       "      <td>89</td>\n",
       "      <td>2</td>\n",
       "    </tr>\n",
       "    <tr>\n",
       "      <th>Woods Richardson, Simeon</th>\n",
       "      <th>662769</th>\n",
       "      <td>91</td>\n",
       "      <td>2</td>\n",
       "    </tr>\n",
       "  </tbody>\n",
       "</table>\n",
       "<p>65 rows × 2 columns</p>\n",
       "</div>"
      ],
      "text/plain": [
       "                                  pitch_count  outlier\n",
       "player_name              game_pk                      \n",
       "Adams, Austin            662104            24        2\n",
       "                         663395            24        2\n",
       "Alldred, Cam             662372            16        2\n",
       "Alvarez, R.J.            661495            51        2\n",
       "Anderson, Shaun          661740            21        2\n",
       "...                                       ...      ...\n",
       "Torrens, Luis            662200             1        2\n",
       "Valdez, César            661126            16        2\n",
       "Walters, Nash            662421            16        2\n",
       "Weathers, Ryan           663155            89        2\n",
       "Woods Richardson, Simeon 662769            91        2\n",
       "\n",
       "[65 rows x 2 columns]"
      ]
     },
     "execution_count": 83,
     "metadata": {},
     "output_type": "execute_result"
    }
   ],
   "source": [
    "pitch_count_appearance[pitch_count_appearance['outlier'] == 2]"
   ]
  },
  {
   "cell_type": "markdown",
   "id": "560ec9f9",
   "metadata": {},
   "source": [
    "## wOBA Against in Full Season"
   ]
  },
  {
   "cell_type": "code",
   "execution_count": 84,
   "id": "db0ef810",
   "metadata": {},
   "outputs": [],
   "source": [
    "wx1b = 0.884\n",
    "wx2b = 1.261\n",
    "wx3b = 1.601\n",
    "whr = 2.072\n",
    "wubb = 0.689\n",
    "whbp = 0.720"
   ]
  },
  {
   "cell_type": "code",
   "execution_count": 85,
   "id": "e6d14cf7",
   "metadata": {},
   "outputs": [],
   "source": [
    "woba_full_season = pitches.groupby(['player_name', 'pitch_type'])[['ab', 'x1b', 'x2b', 'x3b', 'hr', 'ubb', 'hbp', 'sf']].agg({'ab': 'sum', 'x1b': 'sum', 'x2b': 'sum', 'x3b': 'sum', 'hr': 'sum', 'ubb': 'sum', 'hbp': 'sum', 'sf': 'sum'})"
   ]
  },
  {
   "cell_type": "code",
   "execution_count": 87,
   "id": "62f35e9f",
   "metadata": {},
   "outputs": [],
   "source": [
    "woba_full_season['woba'] = ((wx1b * woba_full_season['x1b']) + (wx2b * woba_full_season['x2b']) + (wx3b * woba_full_season['x3b']) + (whr * woba_full_season['hr']) + (wubb * woba_full_season['ubb']) + (whbp * woba_full_season['hbp'])) / (woba_full_season['ab'] + woba_full_season['ubb'] + woba_full_season['hbp'] + woba_full_season['sf'])\n",
    "woba_full_season = woba_full_season.round({'woba': 3})"
   ]
  },
  {
   "cell_type": "code",
   "execution_count": 89,
   "id": "6946217d",
   "metadata": {},
   "outputs": [],
   "source": [
    "woba_full_season = woba_full_season[['woba']]"
   ]
  },
  {
   "cell_type": "code",
   "execution_count": 90,
   "id": "db6162cb",
   "metadata": {},
   "outputs": [
    {
     "data": {
      "text/html": [
       "<div>\n",
       "<style scoped>\n",
       "    .dataframe tbody tr th:only-of-type {\n",
       "        vertical-align: middle;\n",
       "    }\n",
       "\n",
       "    .dataframe tbody tr th {\n",
       "        vertical-align: top;\n",
       "    }\n",
       "\n",
       "    .dataframe thead th {\n",
       "        text-align: right;\n",
       "    }\n",
       "</style>\n",
       "<table border=\"1\" class=\"dataframe\">\n",
       "  <thead>\n",
       "    <tr style=\"text-align: right;\">\n",
       "      <th></th>\n",
       "      <th></th>\n",
       "      <th>woba</th>\n",
       "    </tr>\n",
       "    <tr>\n",
       "      <th>player_name</th>\n",
       "      <th>pitch_type</th>\n",
       "      <th></th>\n",
       "    </tr>\n",
       "  </thead>\n",
       "  <tbody>\n",
       "    <tr>\n",
       "      <th rowspan=\"3\" valign=\"top\">Abbott, Cory</th>\n",
       "      <th>FF</th>\n",
       "      <td>0.329</td>\n",
       "    </tr>\n",
       "    <tr>\n",
       "      <th>KC</th>\n",
       "      <td>0.374</td>\n",
       "    </tr>\n",
       "    <tr>\n",
       "      <th>SL</th>\n",
       "      <td>0.422</td>\n",
       "    </tr>\n",
       "    <tr>\n",
       "      <th rowspan=\"2\" valign=\"top\">Abreu, Albert</th>\n",
       "      <th>CH</th>\n",
       "      <td>0.476</td>\n",
       "    </tr>\n",
       "    <tr>\n",
       "      <th>FF</th>\n",
       "      <td>0.543</td>\n",
       "    </tr>\n",
       "  </tbody>\n",
       "</table>\n",
       "</div>"
      ],
      "text/plain": [
       "                           woba\n",
       "player_name   pitch_type       \n",
       "Abbott, Cory  FF          0.329\n",
       "              KC          0.374\n",
       "              SL          0.422\n",
       "Abreu, Albert CH          0.476\n",
       "              FF          0.543"
      ]
     },
     "execution_count": 90,
     "metadata": {},
     "output_type": "execute_result"
    }
   ],
   "source": [
    "woba_full_season.head()"
   ]
  },
  {
   "cell_type": "markdown",
   "id": "fb509be5",
   "metadata": {},
   "source": [
    "## wOBA Against by Appearance"
   ]
  },
  {
   "cell_type": "code",
   "execution_count": 91,
   "id": "c377351a",
   "metadata": {},
   "outputs": [],
   "source": [
    "woba_appearance = pitches.groupby(['player_name', 'game_pk', 'pitch_type'])[['ab', 'x1b', 'x2b', 'x3b', 'hr', 'ubb', 'hbp', 'sf']].agg({'ab': 'sum', 'x1b': 'sum', 'x2b': 'sum', 'x3b': 'sum', 'hr': 'sum', 'ubb': 'sum', 'hbp': 'sum', 'sf': 'sum'})"
   ]
  },
  {
   "cell_type": "code",
   "execution_count": 93,
   "id": "323913da",
   "metadata": {},
   "outputs": [],
   "source": [
    "woba_appearance['woba'] = ((wx1b * woba_appearance['x1b']) + (wx2b * woba_appearance['x2b']) + (wx3b * woba_appearance['x3b']) + (whr * woba_appearance['hr']) + (wubb * woba_appearance['ubb']) + (whbp * woba_appearance['hbp'])) / (woba_appearance['ab'] + woba_appearance['ubb'] + woba_appearance['hbp'] + woba_appearance['sf'])\n",
    "woba_appearance = woba_appearance.round({'woba': 3})"
   ]
  },
  {
   "cell_type": "code",
   "execution_count": 95,
   "id": "42b16522",
   "metadata": {},
   "outputs": [],
   "source": [
    "woba_appearance = woba_appearance[['woba']]"
   ]
  },
  {
   "cell_type": "code",
   "execution_count": 96,
   "id": "eec7a7a6",
   "metadata": {},
   "outputs": [
    {
     "data": {
      "text/html": [
       "<div>\n",
       "<style scoped>\n",
       "    .dataframe tbody tr th:only-of-type {\n",
       "        vertical-align: middle;\n",
       "    }\n",
       "\n",
       "    .dataframe tbody tr th {\n",
       "        vertical-align: top;\n",
       "    }\n",
       "\n",
       "    .dataframe thead th {\n",
       "        text-align: right;\n",
       "    }\n",
       "</style>\n",
       "<table border=\"1\" class=\"dataframe\">\n",
       "  <thead>\n",
       "    <tr style=\"text-align: right;\">\n",
       "      <th></th>\n",
       "      <th></th>\n",
       "      <th></th>\n",
       "      <th>woba</th>\n",
       "    </tr>\n",
       "    <tr>\n",
       "      <th>player_name</th>\n",
       "      <th>game_pk</th>\n",
       "      <th>pitch_type</th>\n",
       "      <th></th>\n",
       "    </tr>\n",
       "  </thead>\n",
       "  <tbody>\n",
       "    <tr>\n",
       "      <th rowspan=\"5\" valign=\"top\">Abbott, Cory</th>\n",
       "      <th rowspan=\"3\" valign=\"top\">661094</th>\n",
       "      <th>FF</th>\n",
       "      <td>0.418</td>\n",
       "    </tr>\n",
       "    <tr>\n",
       "      <th>KC</th>\n",
       "      <td>0.589</td>\n",
       "    </tr>\n",
       "    <tr>\n",
       "      <th>SL</th>\n",
       "      <td>0.440</td>\n",
       "    </tr>\n",
       "    <tr>\n",
       "      <th rowspan=\"2\" valign=\"top\">661470</th>\n",
       "      <th>FF</th>\n",
       "      <td>0.394</td>\n",
       "    </tr>\n",
       "    <tr>\n",
       "      <th>KC</th>\n",
       "      <td>0.442</td>\n",
       "    </tr>\n",
       "  </tbody>\n",
       "</table>\n",
       "</div>"
      ],
      "text/plain": [
       "                                  woba\n",
       "player_name  game_pk pitch_type       \n",
       "Abbott, Cory 661094  FF          0.418\n",
       "                     KC          0.589\n",
       "                     SL          0.440\n",
       "             661470  FF          0.394\n",
       "                     KC          0.442"
      ]
     },
     "execution_count": 96,
     "metadata": {},
     "output_type": "execute_result"
    }
   ],
   "source": [
    "woba_appearance.head()"
   ]
  },
  {
   "cell_type": "markdown",
   "id": "82ddb320",
   "metadata": {},
   "source": [
    "# Section 5 - Creating the Games DataFrame "
   ]
  },
  {
   "cell_type": "code",
   "execution_count": 97,
   "id": "6bca7b7d",
   "metadata": {},
   "outputs": [],
   "source": [
    "appearances = woba_appearance.join(pitch_use_appearance, how='inner')"
   ]
  },
  {
   "cell_type": "code",
   "execution_count": 99,
   "id": "a0418daf",
   "metadata": {},
   "outputs": [],
   "source": [
    "appearances = appearances.rename(columns={'woba': 'woba_appearance', 'pct': 'pct_appearance'})"
   ]
  },
  {
   "cell_type": "code",
   "execution_count": 100,
   "id": "905acc9c",
   "metadata": {},
   "outputs": [
    {
     "data": {
      "text/html": [
       "<div>\n",
       "<style scoped>\n",
       "    .dataframe tbody tr th:only-of-type {\n",
       "        vertical-align: middle;\n",
       "    }\n",
       "\n",
       "    .dataframe tbody tr th {\n",
       "        vertical-align: top;\n",
       "    }\n",
       "\n",
       "    .dataframe thead th {\n",
       "        text-align: right;\n",
       "    }\n",
       "</style>\n",
       "<table border=\"1\" class=\"dataframe\">\n",
       "  <thead>\n",
       "    <tr style=\"text-align: right;\">\n",
       "      <th></th>\n",
       "      <th></th>\n",
       "      <th></th>\n",
       "      <th>woba_appearance</th>\n",
       "      <th>pct_appearance</th>\n",
       "      <th>pitch_count</th>\n",
       "      <th>outlier</th>\n",
       "    </tr>\n",
       "    <tr>\n",
       "      <th>player_name</th>\n",
       "      <th>game_pk</th>\n",
       "      <th>pitch_type</th>\n",
       "      <th></th>\n",
       "      <th></th>\n",
       "      <th></th>\n",
       "      <th></th>\n",
       "    </tr>\n",
       "  </thead>\n",
       "  <tbody>\n",
       "    <tr>\n",
       "      <th rowspan=\"5\" valign=\"top\">Abbott, Cory</th>\n",
       "      <th rowspan=\"3\" valign=\"top\">661094</th>\n",
       "      <th>FF</th>\n",
       "      <td>0.418</td>\n",
       "      <td>0.636</td>\n",
       "      <td>88</td>\n",
       "      <td>0</td>\n",
       "    </tr>\n",
       "    <tr>\n",
       "      <th>KC</th>\n",
       "      <td>0.589</td>\n",
       "      <td>0.170</td>\n",
       "      <td>88</td>\n",
       "      <td>0</td>\n",
       "    </tr>\n",
       "    <tr>\n",
       "      <th>SL</th>\n",
       "      <td>0.440</td>\n",
       "      <td>0.193</td>\n",
       "      <td>88</td>\n",
       "      <td>0</td>\n",
       "    </tr>\n",
       "    <tr>\n",
       "      <th rowspan=\"2\" valign=\"top\">661470</th>\n",
       "      <th>FF</th>\n",
       "      <td>0.394</td>\n",
       "      <td>0.377</td>\n",
       "      <td>69</td>\n",
       "      <td>0</td>\n",
       "    </tr>\n",
       "    <tr>\n",
       "      <th>KC</th>\n",
       "      <td>0.442</td>\n",
       "      <td>0.188</td>\n",
       "      <td>69</td>\n",
       "      <td>0</td>\n",
       "    </tr>\n",
       "  </tbody>\n",
       "</table>\n",
       "</div>"
      ],
      "text/plain": [
       "                                 woba_appearance  pct_appearance  pitch_count  \\\n",
       "player_name  game_pk pitch_type                                                 \n",
       "Abbott, Cory 661094  FF                    0.418           0.636           88   \n",
       "                     KC                    0.589           0.170           88   \n",
       "                     SL                    0.440           0.193           88   \n",
       "             661470  FF                    0.394           0.377           69   \n",
       "                     KC                    0.442           0.188           69   \n",
       "\n",
       "                                 outlier  \n",
       "player_name  game_pk pitch_type           \n",
       "Abbott, Cory 661094  FF                0  \n",
       "                     KC                0  \n",
       "                     SL                0  \n",
       "             661470  FF                0  \n",
       "                     KC                0  "
      ]
     },
     "execution_count": 100,
     "metadata": {},
     "output_type": "execute_result"
    }
   ],
   "source": [
    "appearances.head()"
   ]
  },
  {
   "cell_type": "code",
   "execution_count": 101,
   "id": "587ddb63",
   "metadata": {},
   "outputs": [],
   "source": [
    "appearances = appearances.join(woba_full_season, how='inner')"
   ]
  },
  {
   "cell_type": "code",
   "execution_count": 103,
   "id": "fc38fbc2",
   "metadata": {},
   "outputs": [],
   "source": [
    "appearances = appearances.join(pitch_use_full_season, how='inner')"
   ]
  },
  {
   "cell_type": "code",
   "execution_count": 105,
   "id": "00cba404",
   "metadata": {},
   "outputs": [],
   "source": [
    "appearances = appearances.rename(columns={'woba': 'woba_full_season', 'pct': 'pct_full_season'})"
   ]
  },
  {
   "cell_type": "code",
   "execution_count": 106,
   "id": "93a4dcc4",
   "metadata": {},
   "outputs": [
    {
     "data": {
      "text/html": [
       "<div>\n",
       "<style scoped>\n",
       "    .dataframe tbody tr th:only-of-type {\n",
       "        vertical-align: middle;\n",
       "    }\n",
       "\n",
       "    .dataframe tbody tr th {\n",
       "        vertical-align: top;\n",
       "    }\n",
       "\n",
       "    .dataframe thead th {\n",
       "        text-align: right;\n",
       "    }\n",
       "</style>\n",
       "<table border=\"1\" class=\"dataframe\">\n",
       "  <thead>\n",
       "    <tr style=\"text-align: right;\">\n",
       "      <th></th>\n",
       "      <th></th>\n",
       "      <th></th>\n",
       "      <th>woba_appearance</th>\n",
       "      <th>pct_appearance</th>\n",
       "      <th>pitch_count</th>\n",
       "      <th>outlier</th>\n",
       "      <th>woba_full_season</th>\n",
       "      <th>pct_full_season</th>\n",
       "      <th>use</th>\n",
       "    </tr>\n",
       "    <tr>\n",
       "      <th>player_name</th>\n",
       "      <th>pitch_type</th>\n",
       "      <th>game_pk</th>\n",
       "      <th></th>\n",
       "      <th></th>\n",
       "      <th></th>\n",
       "      <th></th>\n",
       "      <th></th>\n",
       "      <th></th>\n",
       "      <th></th>\n",
       "    </tr>\n",
       "  </thead>\n",
       "  <tbody>\n",
       "    <tr>\n",
       "      <th rowspan=\"5\" valign=\"top\">Abbott, Cory</th>\n",
       "      <th rowspan=\"5\" valign=\"top\">FF</th>\n",
       "      <th>661094</th>\n",
       "      <td>0.418</td>\n",
       "      <td>0.636</td>\n",
       "      <td>88</td>\n",
       "      <td>0</td>\n",
       "      <td>0.329</td>\n",
       "      <td>0.509</td>\n",
       "      <td>first</td>\n",
       "    </tr>\n",
       "    <tr>\n",
       "      <th>661470</th>\n",
       "      <td>0.394</td>\n",
       "      <td>0.377</td>\n",
       "      <td>69</td>\n",
       "      <td>0</td>\n",
       "      <td>0.329</td>\n",
       "      <td>0.509</td>\n",
       "      <td>first</td>\n",
       "    </tr>\n",
       "    <tr>\n",
       "      <th>661558</th>\n",
       "      <td>0.795</td>\n",
       "      <td>0.494</td>\n",
       "      <td>79</td>\n",
       "      <td>0</td>\n",
       "      <td>0.329</td>\n",
       "      <td>0.509</td>\n",
       "      <td>first</td>\n",
       "    </tr>\n",
       "    <tr>\n",
       "      <th>661593</th>\n",
       "      <td>0.000</td>\n",
       "      <td>0.500</td>\n",
       "      <td>8</td>\n",
       "      <td>0</td>\n",
       "      <td>0.329</td>\n",
       "      <td>0.509</td>\n",
       "      <td>first</td>\n",
       "    </tr>\n",
       "    <tr>\n",
       "      <th>661924</th>\n",
       "      <td>0.429</td>\n",
       "      <td>0.466</td>\n",
       "      <td>88</td>\n",
       "      <td>0</td>\n",
       "      <td>0.329</td>\n",
       "      <td>0.509</td>\n",
       "      <td>first</td>\n",
       "    </tr>\n",
       "  </tbody>\n",
       "</table>\n",
       "</div>"
      ],
      "text/plain": [
       "                                 woba_appearance  pct_appearance  pitch_count  \\\n",
       "player_name  pitch_type game_pk                                                 \n",
       "Abbott, Cory FF         661094             0.418           0.636           88   \n",
       "                        661470             0.394           0.377           69   \n",
       "                        661558             0.795           0.494           79   \n",
       "                        661593             0.000           0.500            8   \n",
       "                        661924             0.429           0.466           88   \n",
       "\n",
       "                                 outlier  woba_full_season  pct_full_season  \\\n",
       "player_name  pitch_type game_pk                                               \n",
       "Abbott, Cory FF         661094         0             0.329            0.509   \n",
       "                        661470         0             0.329            0.509   \n",
       "                        661558         0             0.329            0.509   \n",
       "                        661593         0             0.329            0.509   \n",
       "                        661924         0             0.329            0.509   \n",
       "\n",
       "                                   use  \n",
       "player_name  pitch_type game_pk         \n",
       "Abbott, Cory FF         661094   first  \n",
       "                        661470   first  \n",
       "                        661558   first  \n",
       "                        661593   first  \n",
       "                        661924   first  "
      ]
     },
     "execution_count": 106,
     "metadata": {},
     "output_type": "execute_result"
    }
   ],
   "source": [
    "appearances.head()"
   ]
  },
  {
   "cell_type": "code",
   "execution_count": 107,
   "id": "3b895bd6",
   "metadata": {},
   "outputs": [
    {
     "data": {
      "text/html": [
       "<div>\n",
       "<style scoped>\n",
       "    .dataframe tbody tr th:only-of-type {\n",
       "        vertical-align: middle;\n",
       "    }\n",
       "\n",
       "    .dataframe tbody tr th {\n",
       "        vertical-align: top;\n",
       "    }\n",
       "\n",
       "    .dataframe thead th {\n",
       "        text-align: right;\n",
       "    }\n",
       "</style>\n",
       "<table border=\"1\" class=\"dataframe\">\n",
       "  <thead>\n",
       "    <tr style=\"text-align: right;\">\n",
       "      <th></th>\n",
       "      <th>woba_appearance</th>\n",
       "      <th>pct_appearance</th>\n",
       "      <th>pitch_count</th>\n",
       "      <th>outlier</th>\n",
       "      <th>woba_full_season</th>\n",
       "      <th>pct_full_season</th>\n",
       "    </tr>\n",
       "  </thead>\n",
       "  <tbody>\n",
       "    <tr>\n",
       "      <th>count</th>\n",
       "      <td>54431.000000</td>\n",
       "      <td>68600.000000</td>\n",
       "      <td>68600.000000</td>\n",
       "      <td>68600.000000</td>\n",
       "      <td>68266.000000</td>\n",
       "      <td>68600.000000</td>\n",
       "    </tr>\n",
       "    <tr>\n",
       "      <th>mean</th>\n",
       "      <td>0.303953</td>\n",
       "      <td>0.302376</td>\n",
       "      <td>40.401152</td>\n",
       "      <td>0.037143</td>\n",
       "      <td>0.306393</td>\n",
       "      <td>0.286872</td>\n",
       "    </tr>\n",
       "    <tr>\n",
       "      <th>std</th>\n",
       "      <td>0.373876</td>\n",
       "      <td>0.201265</td>\n",
       "      <td>33.311503</td>\n",
       "      <td>0.200560</td>\n",
       "      <td>0.120951</td>\n",
       "      <td>0.170897</td>\n",
       "    </tr>\n",
       "    <tr>\n",
       "      <th>min</th>\n",
       "      <td>0.000000</td>\n",
       "      <td>0.009000</td>\n",
       "      <td>1.000000</td>\n",
       "      <td>0.000000</td>\n",
       "      <td>0.000000</td>\n",
       "      <td>0.001000</td>\n",
       "    </tr>\n",
       "    <tr>\n",
       "      <th>25%</th>\n",
       "      <td>0.000000</td>\n",
       "      <td>0.141000</td>\n",
       "      <td>14.000000</td>\n",
       "      <td>0.000000</td>\n",
       "      <td>0.241000</td>\n",
       "      <td>0.153000</td>\n",
       "    </tr>\n",
       "    <tr>\n",
       "      <th>50%</th>\n",
       "      <td>0.221000</td>\n",
       "      <td>0.267000</td>\n",
       "      <td>23.000000</td>\n",
       "      <td>0.000000</td>\n",
       "      <td>0.298000</td>\n",
       "      <td>0.270000</td>\n",
       "    </tr>\n",
       "    <tr>\n",
       "      <th>75%</th>\n",
       "      <td>0.452000</td>\n",
       "      <td>0.429000</td>\n",
       "      <td>77.000000</td>\n",
       "      <td>0.000000</td>\n",
       "      <td>0.358000</td>\n",
       "      <td>0.403000</td>\n",
       "    </tr>\n",
       "    <tr>\n",
       "      <th>max</th>\n",
       "      <td>2.072000</td>\n",
       "      <td>1.000000</td>\n",
       "      <td>129.000000</td>\n",
       "      <td>2.000000</td>\n",
       "      <td>2.072000</td>\n",
       "      <td>0.913000</td>\n",
       "    </tr>\n",
       "  </tbody>\n",
       "</table>\n",
       "</div>"
      ],
      "text/plain": [
       "       woba_appearance  pct_appearance   pitch_count       outlier  \\\n",
       "count     54431.000000    68600.000000  68600.000000  68600.000000   \n",
       "mean          0.303953        0.302376     40.401152      0.037143   \n",
       "std           0.373876        0.201265     33.311503      0.200560   \n",
       "min           0.000000        0.009000      1.000000      0.000000   \n",
       "25%           0.000000        0.141000     14.000000      0.000000   \n",
       "50%           0.221000        0.267000     23.000000      0.000000   \n",
       "75%           0.452000        0.429000     77.000000      0.000000   \n",
       "max           2.072000        1.000000    129.000000      2.000000   \n",
       "\n",
       "       woba_full_season  pct_full_season  \n",
       "count      68266.000000     68600.000000  \n",
       "mean           0.306393         0.286872  \n",
       "std            0.120951         0.170897  \n",
       "min            0.000000         0.001000  \n",
       "25%            0.241000         0.153000  \n",
       "50%            0.298000         0.270000  \n",
       "75%            0.358000         0.403000  \n",
       "max            2.072000         0.913000  "
      ]
     },
     "execution_count": 107,
     "metadata": {},
     "output_type": "execute_result"
    }
   ],
   "source": [
    "appearances.describe()"
   ]
  },
  {
   "cell_type": "code",
   "execution_count": 108,
   "id": "a91b8cba",
   "metadata": {},
   "outputs": [],
   "source": [
    "appearances = appearances[(appearances['woba_appearance'].notnull()) & (appearances['woba_full_season'].notnull())]"
   ]
  },
  {
   "cell_type": "code",
   "execution_count": 109,
   "id": "6875cc63",
   "metadata": {},
   "outputs": [
    {
     "data": {
      "text/html": [
       "<div>\n",
       "<style scoped>\n",
       "    .dataframe tbody tr th:only-of-type {\n",
       "        vertical-align: middle;\n",
       "    }\n",
       "\n",
       "    .dataframe tbody tr th {\n",
       "        vertical-align: top;\n",
       "    }\n",
       "\n",
       "    .dataframe thead th {\n",
       "        text-align: right;\n",
       "    }\n",
       "</style>\n",
       "<table border=\"1\" class=\"dataframe\">\n",
       "  <thead>\n",
       "    <tr style=\"text-align: right;\">\n",
       "      <th></th>\n",
       "      <th>woba_appearance</th>\n",
       "      <th>pct_appearance</th>\n",
       "      <th>pitch_count</th>\n",
       "      <th>outlier</th>\n",
       "      <th>woba_full_season</th>\n",
       "      <th>pct_full_season</th>\n",
       "    </tr>\n",
       "  </thead>\n",
       "  <tbody>\n",
       "    <tr>\n",
       "      <th>count</th>\n",
       "      <td>54431.000000</td>\n",
       "      <td>54431.000000</td>\n",
       "      <td>54431.000000</td>\n",
       "      <td>54431.000000</td>\n",
       "      <td>54431.000000</td>\n",
       "      <td>54431.000000</td>\n",
       "    </tr>\n",
       "    <tr>\n",
       "      <th>mean</th>\n",
       "      <td>0.303953</td>\n",
       "      <td>0.340403</td>\n",
       "      <td>43.592163</td>\n",
       "      <td>0.038673</td>\n",
       "      <td>0.305241</td>\n",
       "      <td>0.312760</td>\n",
       "    </tr>\n",
       "    <tr>\n",
       "      <th>std</th>\n",
       "      <td>0.373876</td>\n",
       "      <td>0.199336</td>\n",
       "      <td>34.126340</td>\n",
       "      <td>0.204469</td>\n",
       "      <td>0.104865</td>\n",
       "      <td>0.169177</td>\n",
       "    </tr>\n",
       "    <tr>\n",
       "      <th>min</th>\n",
       "      <td>0.000000</td>\n",
       "      <td>0.009000</td>\n",
       "      <td>1.000000</td>\n",
       "      <td>0.000000</td>\n",
       "      <td>0.000000</td>\n",
       "      <td>0.001000</td>\n",
       "    </tr>\n",
       "    <tr>\n",
       "      <th>25%</th>\n",
       "      <td>0.000000</td>\n",
       "      <td>0.183000</td>\n",
       "      <td>15.000000</td>\n",
       "      <td>0.000000</td>\n",
       "      <td>0.246000</td>\n",
       "      <td>0.183000</td>\n",
       "    </tr>\n",
       "    <tr>\n",
       "      <th>50%</th>\n",
       "      <td>0.221000</td>\n",
       "      <td>0.312000</td>\n",
       "      <td>25.000000</td>\n",
       "      <td>0.000000</td>\n",
       "      <td>0.299000</td>\n",
       "      <td>0.295000</td>\n",
       "    </tr>\n",
       "    <tr>\n",
       "      <th>75%</th>\n",
       "      <td>0.452000</td>\n",
       "      <td>0.467000</td>\n",
       "      <td>81.000000</td>\n",
       "      <td>0.000000</td>\n",
       "      <td>0.355000</td>\n",
       "      <td>0.430000</td>\n",
       "    </tr>\n",
       "    <tr>\n",
       "      <th>max</th>\n",
       "      <td>2.072000</td>\n",
       "      <td>1.000000</td>\n",
       "      <td>129.000000</td>\n",
       "      <td>2.000000</td>\n",
       "      <td>2.072000</td>\n",
       "      <td>0.913000</td>\n",
       "    </tr>\n",
       "  </tbody>\n",
       "</table>\n",
       "</div>"
      ],
      "text/plain": [
       "       woba_appearance  pct_appearance   pitch_count       outlier  \\\n",
       "count     54431.000000    54431.000000  54431.000000  54431.000000   \n",
       "mean          0.303953        0.340403     43.592163      0.038673   \n",
       "std           0.373876        0.199336     34.126340      0.204469   \n",
       "min           0.000000        0.009000      1.000000      0.000000   \n",
       "25%           0.000000        0.183000     15.000000      0.000000   \n",
       "50%           0.221000        0.312000     25.000000      0.000000   \n",
       "75%           0.452000        0.467000     81.000000      0.000000   \n",
       "max           2.072000        1.000000    129.000000      2.000000   \n",
       "\n",
       "       woba_full_season  pct_full_season  \n",
       "count      54431.000000     54431.000000  \n",
       "mean           0.305241         0.312760  \n",
       "std            0.104865         0.169177  \n",
       "min            0.000000         0.001000  \n",
       "25%            0.246000         0.183000  \n",
       "50%            0.299000         0.295000  \n",
       "75%            0.355000         0.430000  \n",
       "max            2.072000         0.913000  "
      ]
     },
     "execution_count": 109,
     "metadata": {},
     "output_type": "execute_result"
    }
   ],
   "source": [
    "appearances.describe()"
   ]
  },
  {
   "cell_type": "code",
   "execution_count": 110,
   "id": "ec7580bf",
   "metadata": {},
   "outputs": [],
   "source": [
    "appearances['woba_diff'] = appearances['woba_appearance'] - appearances['woba_full_season']\n",
    "appearances['pct_diff'] = appearances['pct_appearance'] - appearances['pct_full_season']"
   ]
  },
  {
   "cell_type": "code",
   "execution_count": 111,
   "id": "13cf426a",
   "metadata": {},
   "outputs": [
    {
     "data": {
      "text/html": [
       "<div>\n",
       "<style scoped>\n",
       "    .dataframe tbody tr th:only-of-type {\n",
       "        vertical-align: middle;\n",
       "    }\n",
       "\n",
       "    .dataframe tbody tr th {\n",
       "        vertical-align: top;\n",
       "    }\n",
       "\n",
       "    .dataframe thead th {\n",
       "        text-align: right;\n",
       "    }\n",
       "</style>\n",
       "<table border=\"1\" class=\"dataframe\">\n",
       "  <thead>\n",
       "    <tr style=\"text-align: right;\">\n",
       "      <th></th>\n",
       "      <th></th>\n",
       "      <th></th>\n",
       "      <th>woba_appearance</th>\n",
       "      <th>pct_appearance</th>\n",
       "      <th>pitch_count</th>\n",
       "      <th>outlier</th>\n",
       "      <th>woba_full_season</th>\n",
       "      <th>pct_full_season</th>\n",
       "      <th>use</th>\n",
       "      <th>woba_diff</th>\n",
       "      <th>pct_diff</th>\n",
       "    </tr>\n",
       "    <tr>\n",
       "      <th>player_name</th>\n",
       "      <th>pitch_type</th>\n",
       "      <th>game_pk</th>\n",
       "      <th></th>\n",
       "      <th></th>\n",
       "      <th></th>\n",
       "      <th></th>\n",
       "      <th></th>\n",
       "      <th></th>\n",
       "      <th></th>\n",
       "      <th></th>\n",
       "      <th></th>\n",
       "    </tr>\n",
       "  </thead>\n",
       "  <tbody>\n",
       "    <tr>\n",
       "      <th rowspan=\"5\" valign=\"top\">Abbott, Cory</th>\n",
       "      <th rowspan=\"5\" valign=\"top\">FF</th>\n",
       "      <th>661094</th>\n",
       "      <td>0.418</td>\n",
       "      <td>0.636</td>\n",
       "      <td>88</td>\n",
       "      <td>0</td>\n",
       "      <td>0.329</td>\n",
       "      <td>0.509</td>\n",
       "      <td>first</td>\n",
       "      <td>0.089</td>\n",
       "      <td>0.127</td>\n",
       "    </tr>\n",
       "    <tr>\n",
       "      <th>661470</th>\n",
       "      <td>0.394</td>\n",
       "      <td>0.377</td>\n",
       "      <td>69</td>\n",
       "      <td>0</td>\n",
       "      <td>0.329</td>\n",
       "      <td>0.509</td>\n",
       "      <td>first</td>\n",
       "      <td>0.065</td>\n",
       "      <td>-0.132</td>\n",
       "    </tr>\n",
       "    <tr>\n",
       "      <th>661558</th>\n",
       "      <td>0.795</td>\n",
       "      <td>0.494</td>\n",
       "      <td>79</td>\n",
       "      <td>0</td>\n",
       "      <td>0.329</td>\n",
       "      <td>0.509</td>\n",
       "      <td>first</td>\n",
       "      <td>0.466</td>\n",
       "      <td>-0.015</td>\n",
       "    </tr>\n",
       "    <tr>\n",
       "      <th>661593</th>\n",
       "      <td>0.000</td>\n",
       "      <td>0.500</td>\n",
       "      <td>8</td>\n",
       "      <td>0</td>\n",
       "      <td>0.329</td>\n",
       "      <td>0.509</td>\n",
       "      <td>first</td>\n",
       "      <td>-0.329</td>\n",
       "      <td>-0.009</td>\n",
       "    </tr>\n",
       "    <tr>\n",
       "      <th>661924</th>\n",
       "      <td>0.429</td>\n",
       "      <td>0.466</td>\n",
       "      <td>88</td>\n",
       "      <td>0</td>\n",
       "      <td>0.329</td>\n",
       "      <td>0.509</td>\n",
       "      <td>first</td>\n",
       "      <td>0.100</td>\n",
       "      <td>-0.043</td>\n",
       "    </tr>\n",
       "  </tbody>\n",
       "</table>\n",
       "</div>"
      ],
      "text/plain": [
       "                                 woba_appearance  pct_appearance  pitch_count  \\\n",
       "player_name  pitch_type game_pk                                                 \n",
       "Abbott, Cory FF         661094             0.418           0.636           88   \n",
       "                        661470             0.394           0.377           69   \n",
       "                        661558             0.795           0.494           79   \n",
       "                        661593             0.000           0.500            8   \n",
       "                        661924             0.429           0.466           88   \n",
       "\n",
       "                                 outlier  woba_full_season  pct_full_season  \\\n",
       "player_name  pitch_type game_pk                                               \n",
       "Abbott, Cory FF         661094         0             0.329            0.509   \n",
       "                        661470         0             0.329            0.509   \n",
       "                        661558         0             0.329            0.509   \n",
       "                        661593         0             0.329            0.509   \n",
       "                        661924         0             0.329            0.509   \n",
       "\n",
       "                                   use  woba_diff  pct_diff  \n",
       "player_name  pitch_type game_pk                              \n",
       "Abbott, Cory FF         661094   first      0.089     0.127  \n",
       "                        661470   first      0.065    -0.132  \n",
       "                        661558   first      0.466    -0.015  \n",
       "                        661593   first     -0.329    -0.009  \n",
       "                        661924   first      0.100    -0.043  "
      ]
     },
     "execution_count": 111,
     "metadata": {},
     "output_type": "execute_result"
    }
   ],
   "source": [
    "appearances.head()"
   ]
  },
  {
   "cell_type": "code",
   "execution_count": 112,
   "id": "db265c0d",
   "metadata": {},
   "outputs": [
    {
     "data": {
      "text/html": [
       "<div>\n",
       "<style scoped>\n",
       "    .dataframe tbody tr th:only-of-type {\n",
       "        vertical-align: middle;\n",
       "    }\n",
       "\n",
       "    .dataframe tbody tr th {\n",
       "        vertical-align: top;\n",
       "    }\n",
       "\n",
       "    .dataframe thead th {\n",
       "        text-align: right;\n",
       "    }\n",
       "</style>\n",
       "<table border=\"1\" class=\"dataframe\">\n",
       "  <thead>\n",
       "    <tr style=\"text-align: right;\">\n",
       "      <th></th>\n",
       "      <th>woba_appearance</th>\n",
       "      <th>pct_appearance</th>\n",
       "      <th>pitch_count</th>\n",
       "      <th>outlier</th>\n",
       "      <th>woba_full_season</th>\n",
       "      <th>pct_full_season</th>\n",
       "      <th>woba_diff</th>\n",
       "      <th>pct_diff</th>\n",
       "    </tr>\n",
       "  </thead>\n",
       "  <tbody>\n",
       "    <tr>\n",
       "      <th>count</th>\n",
       "      <td>54431.000000</td>\n",
       "      <td>54431.000000</td>\n",
       "      <td>54431.000000</td>\n",
       "      <td>54431.000000</td>\n",
       "      <td>54431.000000</td>\n",
       "      <td>54431.000000</td>\n",
       "      <td>54431.000000</td>\n",
       "      <td>54431.000000</td>\n",
       "    </tr>\n",
       "    <tr>\n",
       "      <th>mean</th>\n",
       "      <td>0.303953</td>\n",
       "      <td>0.340403</td>\n",
       "      <td>43.592163</td>\n",
       "      <td>0.038673</td>\n",
       "      <td>0.305241</td>\n",
       "      <td>0.312760</td>\n",
       "      <td>-0.001288</td>\n",
       "      <td>0.027644</td>\n",
       "    </tr>\n",
       "    <tr>\n",
       "      <th>std</th>\n",
       "      <td>0.373876</td>\n",
       "      <td>0.199336</td>\n",
       "      <td>34.126340</td>\n",
       "      <td>0.204469</td>\n",
       "      <td>0.104865</td>\n",
       "      <td>0.169177</td>\n",
       "      <td>0.358392</td>\n",
       "      <td>0.119799</td>\n",
       "    </tr>\n",
       "    <tr>\n",
       "      <th>min</th>\n",
       "      <td>0.000000</td>\n",
       "      <td>0.009000</td>\n",
       "      <td>1.000000</td>\n",
       "      <td>0.000000</td>\n",
       "      <td>0.000000</td>\n",
       "      <td>0.001000</td>\n",
       "      <td>-1.036000</td>\n",
       "      <td>-0.530000</td>\n",
       "    </tr>\n",
       "    <tr>\n",
       "      <th>25%</th>\n",
       "      <td>0.000000</td>\n",
       "      <td>0.183000</td>\n",
       "      <td>15.000000</td>\n",
       "      <td>0.000000</td>\n",
       "      <td>0.246000</td>\n",
       "      <td>0.183000</td>\n",
       "      <td>-0.261000</td>\n",
       "      <td>-0.044000</td>\n",
       "    </tr>\n",
       "    <tr>\n",
       "      <th>50%</th>\n",
       "      <td>0.221000</td>\n",
       "      <td>0.312000</td>\n",
       "      <td>25.000000</td>\n",
       "      <td>0.000000</td>\n",
       "      <td>0.299000</td>\n",
       "      <td>0.295000</td>\n",
       "      <td>-0.087000</td>\n",
       "      <td>0.016000</td>\n",
       "    </tr>\n",
       "    <tr>\n",
       "      <th>75%</th>\n",
       "      <td>0.452000</td>\n",
       "      <td>0.467000</td>\n",
       "      <td>81.000000</td>\n",
       "      <td>0.000000</td>\n",
       "      <td>0.355000</td>\n",
       "      <td>0.430000</td>\n",
       "      <td>0.162000</td>\n",
       "      <td>0.089000</td>\n",
       "    </tr>\n",
       "    <tr>\n",
       "      <th>max</th>\n",
       "      <td>2.072000</td>\n",
       "      <td>1.000000</td>\n",
       "      <td>129.000000</td>\n",
       "      <td>2.000000</td>\n",
       "      <td>2.072000</td>\n",
       "      <td>0.913000</td>\n",
       "      <td>1.951000</td>\n",
       "      <td>0.942000</td>\n",
       "    </tr>\n",
       "  </tbody>\n",
       "</table>\n",
       "</div>"
      ],
      "text/plain": [
       "       woba_appearance  pct_appearance   pitch_count       outlier  \\\n",
       "count     54431.000000    54431.000000  54431.000000  54431.000000   \n",
       "mean          0.303953        0.340403     43.592163      0.038673   \n",
       "std           0.373876        0.199336     34.126340      0.204469   \n",
       "min           0.000000        0.009000      1.000000      0.000000   \n",
       "25%           0.000000        0.183000     15.000000      0.000000   \n",
       "50%           0.221000        0.312000     25.000000      0.000000   \n",
       "75%           0.452000        0.467000     81.000000      0.000000   \n",
       "max           2.072000        1.000000    129.000000      2.000000   \n",
       "\n",
       "       woba_full_season  pct_full_season     woba_diff      pct_diff  \n",
       "count      54431.000000     54431.000000  54431.000000  54431.000000  \n",
       "mean           0.305241         0.312760     -0.001288      0.027644  \n",
       "std            0.104865         0.169177      0.358392      0.119799  \n",
       "min            0.000000         0.001000     -1.036000     -0.530000  \n",
       "25%            0.246000         0.183000     -0.261000     -0.044000  \n",
       "50%            0.299000         0.295000     -0.087000      0.016000  \n",
       "75%            0.355000         0.430000      0.162000      0.089000  \n",
       "max            2.072000         0.913000      1.951000      0.942000  "
      ]
     },
     "execution_count": 112,
     "metadata": {},
     "output_type": "execute_result"
    }
   ],
   "source": [
    "appearances.describe()"
   ]
  },
  {
   "cell_type": "markdown",
   "id": "7410df3d",
   "metadata": {},
   "source": [
    "# Section 6 - Data Analysis"
   ]
  },
  {
   "cell_type": "code",
   "execution_count": 113,
   "id": "f6e47b84",
   "metadata": {},
   "outputs": [
    {
     "data": {
      "image/png": "[encoded data removed]",
      "text/plain": [
       "<Figure size 650x650 with 1 Axes>"
      ]
     },
     "metadata": {},
     "output_type": "display_data"
    }
   ],
   "source": [
    "f, ax = plt.subplots(figsize=(6.5, 6.5))\n",
    "sns.scatterplot(x='pct_diff', y='woba_diff', color='blue', data=appearances, ax=ax);"
   ]
  },
  {
   "cell_type": "markdown",
   "id": "ad3e3f6d",
   "metadata": {},
   "source": [
    "## One Degree Model"
   ]
  },
  {
   "cell_type": "code",
   "execution_count": 114,
   "id": "22895a9a",
   "metadata": {},
   "outputs": [],
   "source": [
    "# set fit_intercept=False as we want f(mu_i) = 0\n",
    "# that is that we can recreate the pitcher's season wOBA with their full season pitch use\n",
    "x_all_pitches = appearances['pct_diff'].to_numpy().reshape(-1, 1)\n",
    "y_all_pitches = appearances['woba_diff'].to_numpy()\n",
    "model_all_pitches_deg1 = LinearRegression(fit_intercept=False).fit(x_all_pitches, y_all_pitches)\n",
    "slope_all_pitches_deg1 = model_all_pitches_deg1.coef_[0]\n",
    "r_squared_all_pitches_deg1 = model_all_pitches_deg1.score(x_all_pitches, y_all_pitches)"
   ]
  },
  {
   "cell_type": "code",
   "execution_count": 115,
   "id": "db17a1dc",
   "metadata": {},
   "outputs": [
    {
     "name": "stdout",
     "output_type": "stream",
     "text": [
      "slope: -0.27852850331049855\n",
      "coefficient of determination: 0.009116853587978646\n"
     ]
    }
   ],
   "source": [
    "print(f\"slope: {slope_all_pitches_deg1}\")\n",
    "print(f\"coefficient of determination: {r_squared_all_pitches_deg1}\")"
   ]
  },
  {
   "cell_type": "code",
   "execution_count": 116,
   "id": "50c6c0c5",
   "metadata": {},
   "outputs": [],
   "source": [
    "x_all_pitches = x_all_pitches.reshape(-1)\n",
    "y_hat_all_pitches_deg1 = slope_all_pitches_deg1 * x_all_pitches\n",
    "res_all_pitches_deg1 = np.subtract(y_hat_all_pitches_deg1, y_all_pitches)\n",
    "mse_all_pitches_deg1 = np.square(res_all_pitches_deg1).mean()\n",
    "rmse_all_pitches_deg1 = np.sqrt(mse_all_pitches_deg1)"
   ]
  },
  {
   "cell_type": "code",
   "execution_count": 117,
   "id": "1e880513",
   "metadata": {},
   "outputs": [
    {
     "name": "stdout",
     "output_type": "stream",
     "text": [
      "rmse: 0.35675142241285746\n"
     ]
    }
   ],
   "source": [
    "print(f\"rmse: {rmse_all_pitches_deg1}\")"
   ]
  },
  {
   "cell_type": "code",
   "execution_count": 118,
   "id": "09a05fd5",
   "metadata": {},
   "outputs": [
    {
     "data": {
      "image/png": "[encoded data removed]",
      "text/plain": [
       "<Figure size 650x650 with 1 Axes>"
      ]
     },
     "metadata": {},
     "output_type": "display_data"
    }
   ],
   "source": [
    "f, ax = plt.subplots(figsize=(6.5, 6.5))\n",
    "sns.scatterplot(x='pct_diff', y='woba_diff', color='blue', data=appearances, ax=ax);\n",
    "# ax.axline((0, 0), slope=slope_all_pitches, c='r');\n",
    "\n",
    "x_values = np.linspace(appearances['pct_diff'].min(), appearances['pct_diff'].max(), 1000)\n",
    "y_values = slope_all_pitches_deg1 * x_values\n",
    "\n",
    "sns.lineplot(x=x_values, y=y_values, color='red');"
   ]
  },
  {
   "cell_type": "markdown",
   "id": "bf84336e",
   "metadata": {},
   "source": [
    "## Three Degree Model"
   ]
  },
  {
   "cell_type": "code",
   "execution_count": 119,
   "id": "e7082aff",
   "metadata": {},
   "outputs": [],
   "source": [
    "x_all_pitches = appearances['pct_diff'].to_numpy().reshape(-1, 1)\n",
    "x_all_pitches_ = PolynomialFeatures(degree=3, include_bias=False).fit_transform(x_all_pitches)\n",
    "model_all_pitches_deg3 = LinearRegression(fit_intercept=False).fit(x_all_pitches_, y_all_pitches)\n",
    "slope_all_pitches_deg3_0 = model_all_pitches_deg3.coef_[0]\n",
    "slope_all_pitches_deg3_1 = model_all_pitches_deg3.coef_[1]\n",
    "slope_all_pitches_deg3_2 = model_all_pitches_deg3.coef_[2]\n",
    "r_squared_all_pitches_deg3 = model_all_pitches_deg3.score(x_all_pitches_, y_all_pitches)"
   ]
  },
  {
   "cell_type": "code",
   "execution_count": 120,
   "id": "c2c5dc2c",
   "metadata": {},
   "outputs": [
    {
     "name": "stdout",
     "output_type": "stream",
     "text": [
      "slope degree 1: -0.2866778568201429\n",
      "slope degree 2: -0.1257199273562069\n",
      "slope degree 3: 0.3202505431314719\n",
      "coefficient of determination: 0.009207059414285235\n"
     ]
    }
   ],
   "source": [
    "print(f\"slope degree 1: {slope_all_pitches_deg3_0}\")\n",
    "print(f\"slope degree 2: {slope_all_pitches_deg3_1}\")\n",
    "print(f\"slope degree 3: {slope_all_pitches_deg3_2}\")\n",
    "print(f\"coefficient of determination: {r_squared_all_pitches_deg3}\")"
   ]
  },
  {
   "cell_type": "code",
   "execution_count": 121,
   "id": "d5b1da89",
   "metadata": {},
   "outputs": [],
   "source": [
    "x_all_pitches = x_all_pitches.reshape(-1)\n",
    "y_hat_all_pitches_deg3 = slope_all_pitches_deg3_0 * x_all_pitches + slope_all_pitches_deg3_1 * np.power(x_all_pitches, 2) + slope_all_pitches_deg3_2 * np.power(x_all_pitches, 3)\n",
    "res_all_pitches_deg3 = np.subtract(y_hat_all_pitches_deg3, y_all_pitches)\n",
    "mse_all_pitches_deg3 = np.square(res_all_pitches_deg3).mean()\n",
    "rmse_all_pitches_deg3 = np.sqrt(mse_all_pitches_deg3)"
   ]
  },
  {
   "cell_type": "code",
   "execution_count": 122,
   "id": "0358ddfc",
   "metadata": {},
   "outputs": [
    {
     "name": "stdout",
     "output_type": "stream",
     "text": [
      "rmse: 0.3567351834701518\n"
     ]
    }
   ],
   "source": [
    "print(f\"rmse: {rmse_all_pitches_deg3}\")"
   ]
  },
  {
   "cell_type": "code",
   "execution_count": 123,
   "id": "69fb7864",
   "metadata": {},
   "outputs": [
    {
     "data": {
      "image/png": "[encoded data removed]",
      "text/plain": [
       "<Figure size 650x650 with 1 Axes>"
      ]
     },
     "metadata": {},
     "output_type": "display_data"
    }
   ],
   "source": [
    "f, ax = plt.subplots(figsize=(6.5, 6.5))\n",
    "sns.scatterplot(x='pct_diff', y='woba_diff', color='blue', data=appearances, ax=ax);\n",
    "# ax.axline((0, 0), slope=slope_all_pitches, c='r');\n",
    "\n",
    "x_values = np.linspace(appearances['pct_diff'].min(), appearances['pct_diff'].max(), 1000)\n",
    "y_values = slope_all_pitches_deg3_0 * x_values + slope_all_pitches_deg3_1 * np.power(x_values, 2) + slope_all_pitches_deg3_2 * np.power(x_values, 3)\n",
    "\n",
    "sns.lineplot(x=x_values, y=y_values, color='red');"
   ]
  },
  {
   "cell_type": "markdown",
   "id": "656d1fde",
   "metadata": {},
   "source": [
    "## Outliers"
   ]
  },
  {
   "cell_type": "code",
   "execution_count": 124,
   "id": "8fe696d1",
   "metadata": {},
   "outputs": [
    {
     "data": {
      "image/png": "[encoded data removed]",
      "text/plain": [
       "<Figure size 650x650 with 1 Axes>"
      ]
     },
     "metadata": {},
     "output_type": "display_data"
    }
   ],
   "source": [
    "colors = {0: 'blue', 1: 'red', 2: 'black'}\n",
    "\n",
    "f, ax = plt.subplots(figsize=(6.5, 6.5))\n",
    "sns.scatterplot(x='pct_diff', y='woba_diff', hue='outlier', alpha=0.5, palette=colors, data=appearances, ax=ax);"
   ]
  },
  {
   "cell_type": "code",
   "execution_count": 125,
   "id": "764a4cb7",
   "metadata": {},
   "outputs": [],
   "source": [
    "x_no_outliers = appearances[appearances['outlier'] == 0]['pct_diff'].to_numpy().reshape(-1, 1)\n",
    "y_no_outliers = appearances[appearances['outlier'] == 0]['woba_diff'].to_numpy()\n",
    "model_no_outliers_deg1 = LinearRegression(fit_intercept=False).fit(x_no_outliers, y_no_outliers)\n",
    "slope_no_outliers_deg1 = model_no_outliers_deg1.coef_[0]\n",
    "r_squared_no_outliers_deg1 = model_no_outliers_deg1.score(x_no_outliers, y_no_outliers)"
   ]
  },
  {
   "cell_type": "code",
   "execution_count": 126,
   "id": "659432a5",
   "metadata": {},
   "outputs": [
    {
     "name": "stdout",
     "output_type": "stream",
     "text": [
      "slope: -0.2790492428229659\n",
      "coefficient of determination: 0.00916151344482008\n"
     ]
    }
   ],
   "source": [
    "print(f\"slope: {slope_no_outliers_deg1}\")\n",
    "print(f\"coefficient of determination: {r_squared_no_outliers_deg1}\")"
   ]
  },
  {
   "cell_type": "code",
   "execution_count": 127,
   "id": "46aa35aa",
   "metadata": {},
   "outputs": [],
   "source": [
    "x_no_outliers = x_no_outliers.reshape(-1)\n",
    "y_hat_no_outliers_deg1 = slope_no_outliers_deg1 * x_no_outliers\n",
    "res_no_outliers_deg1 = np.subtract(y_hat_no_outliers_deg1, y_no_outliers)\n",
    "mse_no_outliers_deg1 = np.square(res_no_outliers_deg1).mean()\n",
    "rmse_no_outliers_deg1 = np.sqrt(mse_no_outliers_deg1)"
   ]
  },
  {
   "cell_type": "code",
   "execution_count": 128,
   "id": "8d9d190a",
   "metadata": {},
   "outputs": [
    {
     "name": "stdout",
     "output_type": "stream",
     "text": [
      "rmse: 0.35687630900987766\n"
     ]
    }
   ],
   "source": [
    "print(f\"rmse: {rmse_no_outliers_deg1}\")"
   ]
  },
  {
   "cell_type": "code",
   "execution_count": 129,
   "id": "fddb0bc4",
   "metadata": {},
   "outputs": [
    {
     "data": {
      "image/png": "[encoded data removed]",
      "text/plain": [
       "<Figure size 650x650 with 1 Axes>"
      ]
     },
     "metadata": {},
     "output_type": "display_data"
    }
   ],
   "source": [
    "f, ax = plt.subplots(figsize=(6.5, 6.5))\n",
    "sns.scatterplot(x='pct_diff', y='woba_diff', color='blue', data=appearances[appearances['outlier'] == 0], ax=ax);\n",
    "# ax.axline((0, 0), slope=slope_all_pitches, c='r');\n",
    "\n",
    "x_values = np.linspace(appearances['pct_diff'].min(), appearances['pct_diff'].max(), 1000)\n",
    "y_values = slope_no_outliers_deg1 * x_values\n",
    "\n",
    "sns.lineplot(x=x_values, y=y_values, color='red');"
   ]
  },
  {
   "cell_type": "markdown",
   "id": "eb774bc3",
   "metadata": {},
   "source": [
    "## Analysis of Models"
   ]
  },
  {
   "cell_type": "code",
   "execution_count": 132,
   "id": "c0a68d8a",
   "metadata": {},
   "outputs": [],
   "source": [
    "model_performance_df = {'Model': ['one degree', 'three degrees', 'one degree no outliers'],\n",
    "                       'R Squared': [r_squared_all_pitches_deg1, r_squared_all_pitches_deg3, r_squared_no_outliers_deg1],\n",
    "                       'RMSE': [rmse_all_pitches_deg1, rmse_all_pitches_deg3, rmse_no_outliers_deg1]}\n",
    "model_performance_df = pd.DataFrame(data=model_performance_df)"
   ]
  },
  {
   "cell_type": "code",
   "execution_count": 133,
   "id": "cd4c7bb5",
   "metadata": {},
   "outputs": [
    {
     "data": {
      "text/html": [
       "<div>\n",
       "<style scoped>\n",
       "    .dataframe tbody tr th:only-of-type {\n",
       "        vertical-align: middle;\n",
       "    }\n",
       "\n",
       "    .dataframe tbody tr th {\n",
       "        vertical-align: top;\n",
       "    }\n",
       "\n",
       "    .dataframe thead th {\n",
       "        text-align: right;\n",
       "    }\n",
       "</style>\n",
       "<table border=\"1\" class=\"dataframe\">\n",
       "  <thead>\n",
       "    <tr style=\"text-align: right;\">\n",
       "      <th></th>\n",
       "      <th>Model</th>\n",
       "      <th>R Squared</th>\n",
       "      <th>RMSE</th>\n",
       "    </tr>\n",
       "  </thead>\n",
       "  <tbody>\n",
       "    <tr>\n",
       "      <th>0</th>\n",
       "      <td>one degree</td>\n",
       "      <td>0.009117</td>\n",
       "      <td>0.356751</td>\n",
       "    </tr>\n",
       "    <tr>\n",
       "      <th>1</th>\n",
       "      <td>three degrees</td>\n",
       "      <td>0.009207</td>\n",
       "      <td>0.356735</td>\n",
       "    </tr>\n",
       "    <tr>\n",
       "      <th>2</th>\n",
       "      <td>one degree no outliers</td>\n",
       "      <td>0.009162</td>\n",
       "      <td>0.356876</td>\n",
       "    </tr>\n",
       "  </tbody>\n",
       "</table>\n",
       "</div>"
      ],
      "text/plain": [
       "                    Model  R Squared      RMSE\n",
       "0              one degree   0.009117  0.356751\n",
       "1           three degrees   0.009207  0.356735\n",
       "2  one degree no outliers   0.009162  0.356876"
      ]
     },
     "execution_count": 133,
     "metadata": {},
     "output_type": "execute_result"
    }
   ],
   "source": [
    "model_performance_df"
   ]
  },
  {
   "cell_type": "markdown",
   "id": "b39655a4",
   "metadata": {},
   "source": [
    "# Section 7 - Conclusion"
   ]
  },
  {
   "cell_type": "markdown",
   "id": "bf631e74",
   "metadata": {},
   "source": [
    "The best performing model that I had was the three degree model. That is, for pitch $i$"
   ]
  },
  {
   "cell_type": "markdown",
   "id": "8b97302e",
   "metadata": {},
   "source": [
    "$\\Delta wOBA_{i}(x_{i}) = 0.3203 * (x_{i} - \\mu_{i})^{3} - 0.1257 * (x_{i} - \\mu_{i})^{2} - 0.2867 * (x_{i} - \\mu_{i})$"
   ]
  },
  {
   "cell_type": "markdown",
   "id": "a4e3866b",
   "metadata": {},
   "source": [
    "However, none of the models performed particularly well. Variation in pitch use, relative to their season average, explained, at best, only 0.91% of the variation in wOBA difference, and the models were, at best, within 0.3567 of their true wOBA in each appearance.\n",
    "\n",
    "These are poorly performing models for my long-term goal. The next steps that I plan to take to improve my model fit is to determining a better model is \n",
    "\n",
    "1) To fit a model for each pitch type, creating 10 different models for each of the 10 pitch types.\n",
    "\n",
    "For example, I would fit a model for Changeups. Then I can determine each model's R Squared and RMSE to see if there is improvement over these models.\n",
    "\n",
    "2) To fit a model for each pitch use, creating 8 different models for each of the 8 different pitch uses.\n",
    "\n",
    "For example, I would fit a model for each pitcher's most commonly thrown pitch. Then I can determine each model's R Squared and RMSE to see if there is an improvement over these models.\n",
    "\n",
    "3) To determine the minumum sample size for wOBA to be stable. If the sample size for wOBA to be stable is larger than most pitcher's appearances, then I will bin the data into samples of this minimum sample size."
   ]
  },
  {
   "cell_type": "code",
   "execution_count": null,
   "id": "1846f120",
   "metadata": {},
   "outputs": [],
   "source": []
  }
 ],
 "metadata": {
  "kernelspec": {
   "display_name": "Python 3 (ipykernel)",
   "language": "python",
   "name": "python3"
  },
  "language_info": {
   "codemirror_mode": {
    "name": "ipython",
    "version": 3
   },
   "file_extension": ".py",
   "mimetype": "text/x-python",
   "name": "python",
   "nbconvert_exporter": "python",
   "pygments_lexer": "ipython3",
   "version": "3.10.9"
  }
 },
 "nbformat": 4,
 "nbformat_minor": 5
}
